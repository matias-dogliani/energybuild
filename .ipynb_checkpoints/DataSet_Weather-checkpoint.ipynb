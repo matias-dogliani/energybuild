{
 "cells": [
  {
   "cell_type": "markdown",
   "metadata": {},
   "source": [
    "# Weather API \n",
    "\n",
    "\n",
    "In this NB we import the weather data, preprocess if is needed and save as a new Data Frame. \n",
    "\n",
    "\n",
    "### Historical Data \n",
    "\n",
    "For training and testing the model we use the historicla weather data related to our energy consumption data provided. \n",
    "\n",
    "For that, we'll use the API provided by [AT-Wetter](http://at-wetter.tk/index.php?men=api). We'll use this one, and not the OpenWeather API since if we want to get the historical data depth more than a week (we need a year) we'll have to use several queries. \n",
    "\n",
    "\n",
    "#### API \n",
    "\n",
    "This API don't need a Key or other autentication. It's located on the AT-Server in `http://at-wetter.tk/api/v1/.`\n",
    "The instruction to use it are in its [website](http://at-wetter.tk/index.php?men=api) \n",
    "\n",
    "#### Example \n",
    "\n",
    "To query **all the available stations** we need a call following the format: \n",
    "`/api/v1/[field]/[YYYY-MM-DD]/[day count]` \n",
    "\n",
    "A query call to `http://at-wetter.tk/api/v1/t/2014-08-01/2`  returns Temperature Data for every available station for 2014-08-01, 2 days in the past. \n",
    "\n",
    "\n",
    "\n",
    "To query just **one specific stations** we use: \n",
    "\n",
    "`/api/v1/station/[station]/[field]|[all]/[YYYY-MM-DD]/[day count]`\n",
    "\n",
    "This will return the `[field]` from the specified date `[YYYY-MM-DD]` and prints data `[day count]` days in the past for the specified stations `[station]`\n",
    "\n"
   ]
  },
  {
   "cell_type": "markdown",
   "metadata": {},
   "source": [
    "### Calling the API\n",
    "\n",
    "\n",
    "Explicar las librerias y un poco el codigo ? \n"
   ]
  },
  {
   "cell_type": "code",
   "execution_count": 5,
   "metadata": {},
   "outputs": [],
   "source": [
    "import requests as rq\n",
    "import json\n",
    "import datetime as dt\n"
   ]
  },
  {
   "cell_type": "markdown",
   "metadata": {},
   "source": [
    "* See the available stations "
   ]
  },
  {
   "cell_type": "code",
   "execution_count": 8,
   "metadata": {},
   "outputs": [
    {
     "name": "stdout",
     "output_type": "stream",
     "text": [
      "'11157';'Aigen im Ennstal';'640';'m'\n",
      "'11244';'Bad Gleichenberg';'280';'m'\n",
      "'11101';'Bregenz';'424';'m'\n",
      "'11190';'Eisenstadt';'184';'m'\n",
      "'11';'Feuerkogel';'1618';'m'\n",
      "'11155';'Feuerkogel';'1618';'m'\n",
      "'11240';'Graz/Flughafen';'340';'m'\n",
      "'11121';'Innsbruck';'579';'m'\n",
      "'11331';'Klagenfurt/Flughafen';'447';'m'\n",
      "'11012';'Kremsmünster';'383';'m'\n",
      "'11012';'Kremsm�nster';'383';'m'\n",
      "'11130';'Kufstein';'495';'m'\n",
      "'11204';'Lienz';'659';'m'\n",
      "'11010';'Linz/Hörsching';'298';'m'\n",
      "'11010';'Linz/H�rsching';'298';'m'\n",
      "'11171';'Mariazell';'866';'m'\n",
      "'11126';'Patscherkofel';'2247';'m'\n",
      "'11022';'Retz';'320';'m'\n",
      "'11150';'Salzburg';'430';'m'\n",
      "'11343';'Sonnblick';'3105';'m'\n",
      "'11389';'St. Pölten';'270';'m'\n",
      "'11389';'St. P�lten';'270';'m'\n",
      "'11265';'Villacher Alpe';'2140';'m'\n",
      "'11035';'Wien/Hohe Warte';'203';'m'\n",
      "'11036';'Wien/Schwechat';'183';'m'\n",
      "\n"
     ]
    }
   ],
   "source": [
    "URL =\"http://at-wetter.tk/api/v1/stations\"\n",
    "response = rq.request(\"GET\", URL)\n",
    "print(response.text)\n"
   ]
  },
  {
   "cell_type": "markdown",
   "metadata": {},
   "source": [
    "* Calculate de day count from Building Energy Data set \n",
    "\n",
    "We cold do it manually, but in order to automated all the steps we'll calculated with a python script "
   ]
  },
  {
   "cell_type": "code",
   "execution_count": 72,
   "metadata": {},
   "outputs": [
    {
     "name": "stdout",
     "output_type": "stream",
     "text": [
      "280\n"
     ]
    }
   ],
   "source": [
    "import pandas as pd \n",
    "DataFrame = pd.read_excel(\"./DataSets/Building_energy.xlsx\", header=1)\n",
    "DataFrame.head()\n",
    "\n",
    "#Calculate the Delta Time \n",
    "\n",
    "start_date = datetime.datetime.strptime(DataFrame['Time'][0], \"%Y-%m-%d %H:%M:%S\")\n",
    "end_date = datetime.datetime.strptime(DataFrame['Time'][len(DataFrame)-1], \"%Y-%m-%d %H:%M:%S\")\n",
    "day_count = end_date - start_date\n",
    "print(day_count.days)"
   ]
  },
  {
   "cell_type": "markdown",
   "metadata": {},
   "source": [
    "* Download the temperature data"
   ]
  },
  {
   "cell_type": "code",
   "execution_count": 117,
   "metadata": {},
   "outputs": [
    {
     "name": "stdout",
     "output_type": "stream",
     "text": [
      "http://at-wetter.tk/api/v1/station/11240/t/2021-11-3/280\n"
     ]
    },
    {
     "data": {
      "text/plain": [
       "str"
      ]
     },
     "execution_count": 117,
     "metadata": {},
     "output_type": "execute_result"
    }
   ],
   "source": [
    "station = '11240' #GRAZ \n",
    "field = 't'  #Temperatuer\n",
    "days_count = str(day_count.days)\n",
    "\n",
    "URL = \"http://at-wetter.tk/api/v1/station/\"\n",
    "URL += station \n",
    "URL += \"/\" + field\n",
    "URL += \"/\" + str(end_date.year) + \"-\" + str(end_date.month) + \"-\" + str(end_date.day)\n",
    "URL += \"/\" + days_count\n",
    "response = rq.request(\"GET\", URL)\n",
    "\n",
    "print(URL)\n",
    "#print(response.text)\n",
    "type(response.text)"
   ]
  },
  {
   "cell_type": "markdown",
   "metadata": {},
   "source": [
    "* Saving the data into a Data Frame and making its format equal to Energy Consumption data frame "
   ]
  },
  {
   "cell_type": "code",
   "execution_count": 2,
   "metadata": {},
   "outputs": [
    {
     "ename": "NameError",
     "evalue": "name 'response' is not defined",
     "output_type": "error",
     "traceback": [
      "\u001b[0;31m---------------------------------------------------------------------------\u001b[0m",
      "\u001b[0;31mNameError\u001b[0m                                 Traceback (most recent call last)",
      "\u001b[0;32m/tmp/ipykernel_651809/1533935539.py\u001b[0m in \u001b[0;36m<module>\u001b[0;34m\u001b[0m\n\u001b[0;32m----> 1\u001b[0;31m \u001b[0mrows\u001b[0m \u001b[0;34m=\u001b[0m \u001b[0mresponse\u001b[0m\u001b[0;34m.\u001b[0m\u001b[0mtext\u001b[0m\u001b[0;34m.\u001b[0m\u001b[0msplitlines\u001b[0m\u001b[0;34m(\u001b[0m\u001b[0;34m)\u001b[0m\u001b[0;34m\u001b[0m\u001b[0;34m\u001b[0m\u001b[0m\n\u001b[0m\u001b[1;32m      2\u001b[0m \u001b[0mdf\u001b[0m \u001b[0;34m=\u001b[0m \u001b[0mpd\u001b[0m\u001b[0;34m.\u001b[0m\u001b[0mDataFrame\u001b[0m\u001b[0;34m(\u001b[0m\u001b[0mrows\u001b[0m\u001b[0;34m)\u001b[0m\u001b[0;34m\u001b[0m\u001b[0;34m\u001b[0m\u001b[0m\n\u001b[1;32m      3\u001b[0m \u001b[0mdf\u001b[0m\u001b[0;34m.\u001b[0m\u001b[0mto_csv\u001b[0m\u001b[0;34m(\u001b[0m\u001b[0;34m'./DataSets/tempDataSet.csv'\u001b[0m\u001b[0;34m)\u001b[0m\u001b[0;34m\u001b[0m\u001b[0;34m\u001b[0m\u001b[0m\n",
      "\u001b[0;31mNameError\u001b[0m: name 'response' is not defined"
     ]
    }
   ],
   "source": [
    "rows = response.text.splitlines()\n",
    "df = pd.DataFrame(rows)\n",
    "df.to_csv('./DataSets/tempDataSet.csv')"
   ]
  },
  {
   "cell_type": "code",
   "execution_count": null,
   "metadata": {},
   "outputs": [],
   "source": [
    "d"
   ]
  },
  {
   "cell_type": "markdown",
   "metadata": {},
   "source": [
    "### Timestamps \n",
    "Get the timestamps of the Enerfy consumption data in order to call the api with the same days \n",
    "\n",
    "\n"
   ]
  },
  {
   "cell_type": "markdown",
   "metadata": {},
   "source": [
    "### Weather Data \n",
    "\n",
    "Code to obtain the data "
   ]
  },
  {
   "cell_type": "markdown",
   "metadata": {},
   "source": [
    "### Resambling the dataFrame"
   ]
  },
  {
   "cell_type": "code",
   "execution_count": 62,
   "metadata": {},
   "outputs": [
    {
     "data": {
      "text/html": [
       "<div>\n",
       "<style scoped>\n",
       "    .dataframe tbody tr th:only-of-type {\n",
       "        vertical-align: middle;\n",
       "    }\n",
       "\n",
       "    .dataframe tbody tr th {\n",
       "        vertical-align: top;\n",
       "    }\n",
       "\n",
       "    .dataframe thead th {\n",
       "        text-align: right;\n",
       "    }\n",
       "</style>\n",
       "<table border=\"1\" class=\"dataframe\">\n",
       "  <thead>\n",
       "    <tr style=\"text-align: right;\">\n",
       "      <th></th>\n",
       "      <th>year</th>\n",
       "      <th>month</th>\n",
       "      <th>day</th>\n",
       "      <th>hour</th>\n",
       "      <th>reading</th>\n",
       "    </tr>\n",
       "  </thead>\n",
       "  <tbody>\n",
       "    <tr>\n",
       "      <th>0</th>\n",
       "      <td>2021</td>\n",
       "      <td>1</td>\n",
       "      <td>27</td>\n",
       "      <td>11</td>\n",
       "      <td>8.03 kWh</td>\n",
       "    </tr>\n",
       "    <tr>\n",
       "      <th>1</th>\n",
       "      <td>2021</td>\n",
       "      <td>1</td>\n",
       "      <td>27</td>\n",
       "      <td>12</td>\n",
       "      <td>6.85 kWh</td>\n",
       "    </tr>\n",
       "    <tr>\n",
       "      <th>2</th>\n",
       "      <td>2021</td>\n",
       "      <td>1</td>\n",
       "      <td>27</td>\n",
       "      <td>13</td>\n",
       "      <td>8.86 kWh</td>\n",
       "    </tr>\n",
       "    <tr>\n",
       "      <th>3</th>\n",
       "      <td>2021</td>\n",
       "      <td>1</td>\n",
       "      <td>27</td>\n",
       "      <td>14</td>\n",
       "      <td>7.37 kWh</td>\n",
       "    </tr>\n",
       "    <tr>\n",
       "      <th>4</th>\n",
       "      <td>2021</td>\n",
       "      <td>1</td>\n",
       "      <td>27</td>\n",
       "      <td>15</td>\n",
       "      <td>7.67 kWh</td>\n",
       "    </tr>\n",
       "  </tbody>\n",
       "</table>\n",
       "</div>"
      ],
      "text/plain": [
       "   year  month  day  hour   reading\n",
       "0  2021      1   27    11  8.03 kWh\n",
       "1  2021      1   27    12  6.85 kWh\n",
       "2  2021      1   27    13  8.86 kWh\n",
       "3  2021      1   27    14  7.37 kWh\n",
       "4  2021      1   27    15  7.67 kWh"
      ]
     },
     "execution_count": 62,
     "metadata": {},
     "output_type": "execute_result"
    }
   ],
   "source": []
  },
  {
   "cell_type": "markdown",
   "metadata": {},
   "source": [
    "### Forecast \n",
    "#### API \n",
    "\n",
    "We'll use python to request de dataset from the OpenWeather data base. The API  request call should be in this format: \n",
    "\n",
    "``` http://history.openweathermap.org/data/2.5/history/city?q={city ID},{country code}&type=hour&start={start}&end={end}&appid={API key}``` "
   ]
  }
 ],
 "metadata": {
  "kernelspec": {
   "display_name": "BigData",
   "language": "python",
   "name": "bigdata"
  },
  "language_info": {
   "codemirror_mode": {
    "name": "ipython",
    "version": 3
   },
   "file_extension": ".py",
   "mimetype": "text/x-python",
   "name": "python",
   "nbconvert_exporter": "python",
   "pygments_lexer": "ipython3",
   "version": "3.8.10"
  }
 },
 "nbformat": 4,
 "nbformat_minor": 4
}
