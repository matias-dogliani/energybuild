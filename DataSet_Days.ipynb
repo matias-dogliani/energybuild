{
 "cells": [
  {
   "cell_type": "markdown",
   "metadata": {},
   "source": [
    "# Days dataset \n",
    "\n",
    "We'll include holidays, identify week days \n",
    "\n",
    "### Identifying the week days "
   ]
  },
  {
   "cell_type": "markdown",
   "metadata": {},
   "source": [
    "* Open the DataFrame file"
   ]
  },
  {
   "cell_type": "code",
   "execution_count": 1,
   "metadata": {},
   "outputs": [
    {
     "data": {
      "text/html": [
       "<div>\n",
       "<style scoped>\n",
       "    .dataframe tbody tr th:only-of-type {\n",
       "        vertical-align: middle;\n",
       "    }\n",
       "\n",
       "    .dataframe tbody tr th {\n",
       "        vertical-align: top;\n",
       "    }\n",
       "\n",
       "    .dataframe thead th {\n",
       "        text-align: right;\n",
       "    }\n",
       "</style>\n",
       "<table border=\"1\" class=\"dataframe\">\n",
       "  <thead>\n",
       "    <tr style=\"text-align: right;\">\n",
       "      <th></th>\n",
       "      <th>Time</th>\n",
       "      <th>Energy Usage</th>\n",
       "    </tr>\n",
       "  </thead>\n",
       "  <tbody>\n",
       "    <tr>\n",
       "      <th>0</th>\n",
       "      <td>2021-01-27 11:00:00</td>\n",
       "      <td>8.03</td>\n",
       "    </tr>\n",
       "    <tr>\n",
       "      <th>1</th>\n",
       "      <td>2021-01-27 12:00:00</td>\n",
       "      <td>6.85</td>\n",
       "    </tr>\n",
       "    <tr>\n",
       "      <th>2</th>\n",
       "      <td>2021-01-27 13:00:00</td>\n",
       "      <td>8.86</td>\n",
       "    </tr>\n",
       "    <tr>\n",
       "      <th>3</th>\n",
       "      <td>2021-01-27 14:00:00</td>\n",
       "      <td>7.37</td>\n",
       "    </tr>\n",
       "    <tr>\n",
       "      <th>4</th>\n",
       "      <td>2021-01-27 15:00:00</td>\n",
       "      <td>7.67</td>\n",
       "    </tr>\n",
       "    <tr>\n",
       "      <th>...</th>\n",
       "      <td>...</td>\n",
       "      <td>...</td>\n",
       "    </tr>\n",
       "    <tr>\n",
       "      <th>6721</th>\n",
       "      <td>2021-11-03 12:00:00</td>\n",
       "      <td>6.68</td>\n",
       "    </tr>\n",
       "    <tr>\n",
       "      <th>6722</th>\n",
       "      <td>2021-11-03 13:00:00</td>\n",
       "      <td>7.26</td>\n",
       "    </tr>\n",
       "    <tr>\n",
       "      <th>6723</th>\n",
       "      <td>2021-11-03 14:00:00</td>\n",
       "      <td>6.81</td>\n",
       "    </tr>\n",
       "    <tr>\n",
       "      <th>6724</th>\n",
       "      <td>2021-11-03 15:00:00</td>\n",
       "      <td>8.81</td>\n",
       "    </tr>\n",
       "    <tr>\n",
       "      <th>6725</th>\n",
       "      <td>2021-11-03 16:00:00</td>\n",
       "      <td>7.92</td>\n",
       "    </tr>\n",
       "  </tbody>\n",
       "</table>\n",
       "<p>6726 rows × 2 columns</p>\n",
       "</div>"
      ],
      "text/plain": [
       "                     Time  Energy Usage\n",
       "0     2021-01-27 11:00:00          8.03\n",
       "1     2021-01-27 12:00:00          6.85\n",
       "2     2021-01-27 13:00:00          8.86\n",
       "3     2021-01-27 14:00:00          7.37\n",
       "4     2021-01-27 15:00:00          7.67\n",
       "...                   ...           ...\n",
       "6721  2021-11-03 12:00:00          6.68\n",
       "6722  2021-11-03 13:00:00          7.26\n",
       "6723  2021-11-03 14:00:00          6.81\n",
       "6724  2021-11-03 15:00:00          8.81\n",
       "6725  2021-11-03 16:00:00          7.92\n",
       "\n",
       "[6726 rows x 2 columns]"
      ]
     },
     "execution_count": 1,
     "metadata": {},
     "output_type": "execute_result"
    }
   ],
   "source": [
    "import pandas as pd\n",
    "import numpy as np\n",
    "import matplotlib.pyplot as plt\n",
    "from datetime import datetime as dt \n",
    "%matplotlib inline\n",
    "df = pd.read_csv('./DataSets/EnergyConsumption.csv', header=0)\n",
    "df"
   ]
  },
  {
   "cell_type": "markdown",
   "metadata": {},
   "source": [
    "### Changing the date to a datetime type object"
   ]
  },
  {
   "cell_type": "code",
   "execution_count": 2,
   "metadata": {},
   "outputs": [],
   "source": [
    "def Convertstr2dt(data,col): \n",
    "    dates=[]\n",
    "    for str_date in data[col]: \n",
    "        dti = dt.strptime(str_date, \"%Y-%m-%d %H:%M:%S\")\n",
    "        dates.append(dti)\n",
    "   \n",
    "    #Delete the old column\n",
    "    data.drop(col, inplace = True, axis=1) \n",
    "\n",
    "    #Insert the newone\n",
    "    data.insert(0, col,dates)\n",
    "    return data\n",
    "\n",
    "DataFrame = Convertstr2dt(df,'Time')"
   ]
  },
  {
   "cell_type": "markdown",
   "metadata": {},
   "source": [
    "### Detecting the week days"
   ]
  },
  {
   "cell_type": "code",
   "execution_count": 3,
   "metadata": {},
   "outputs": [
    {
     "data": {
      "text/html": [
       "<div>\n",
       "<style scoped>\n",
       "    .dataframe tbody tr th:only-of-type {\n",
       "        vertical-align: middle;\n",
       "    }\n",
       "\n",
       "    .dataframe tbody tr th {\n",
       "        vertical-align: top;\n",
       "    }\n",
       "\n",
       "    .dataframe thead th {\n",
       "        text-align: right;\n",
       "    }\n",
       "</style>\n",
       "<table border=\"1\" class=\"dataframe\">\n",
       "  <thead>\n",
       "    <tr style=\"text-align: right;\">\n",
       "      <th></th>\n",
       "      <th>Time</th>\n",
       "      <th>Week Day</th>\n",
       "      <th>Energy Usage</th>\n",
       "    </tr>\n",
       "  </thead>\n",
       "  <tbody>\n",
       "    <tr>\n",
       "      <th>0</th>\n",
       "      <td>2021-01-27 11:00:00</td>\n",
       "      <td>2</td>\n",
       "      <td>8.03</td>\n",
       "    </tr>\n",
       "    <tr>\n",
       "      <th>1</th>\n",
       "      <td>2021-01-27 12:00:00</td>\n",
       "      <td>2</td>\n",
       "      <td>6.85</td>\n",
       "    </tr>\n",
       "    <tr>\n",
       "      <th>2</th>\n",
       "      <td>2021-01-27 13:00:00</td>\n",
       "      <td>2</td>\n",
       "      <td>8.86</td>\n",
       "    </tr>\n",
       "    <tr>\n",
       "      <th>3</th>\n",
       "      <td>2021-01-27 14:00:00</td>\n",
       "      <td>2</td>\n",
       "      <td>7.37</td>\n",
       "    </tr>\n",
       "    <tr>\n",
       "      <th>4</th>\n",
       "      <td>2021-01-27 15:00:00</td>\n",
       "      <td>2</td>\n",
       "      <td>7.67</td>\n",
       "    </tr>\n",
       "  </tbody>\n",
       "</table>\n",
       "</div>"
      ],
      "text/plain": [
       "                 Time  Week Day  Energy Usage\n",
       "0 2021-01-27 11:00:00         2          8.03\n",
       "1 2021-01-27 12:00:00         2          6.85\n",
       "2 2021-01-27 13:00:00         2          8.86\n",
       "3 2021-01-27 14:00:00         2          7.37\n",
       "4 2021-01-27 15:00:00         2          7.67"
      ]
     },
     "execution_count": 3,
     "metadata": {},
     "output_type": "execute_result"
    }
   ],
   "source": [
    "weekday = [] \n",
    "for day in DataFrame['Time']: \n",
    "    weekday.append(day.weekday())\n",
    "\n",
    "#Add the new column\n",
    "DataFrame.insert(1, 'Week Day',weekday)\n",
    "DataFrame.head()"
   ]
  },
  {
   "cell_type": "markdown",
   "metadata": {},
   "source": [
    "### Decoding the week days\n",
    "\n",
    "....Explanation by Angeles\n",
    "\n",
    "\n",
    "* First we need to normalize all the numbers (that represent the days of the week) between 0 and 2phi "
   ]
  },
  {
   "cell_type": "code",
   "execution_count": 4,
   "metadata": {},
   "outputs": [
    {
     "data": {
      "text/html": [
       "<div>\n",
       "<style scoped>\n",
       "    .dataframe tbody tr th:only-of-type {\n",
       "        vertical-align: middle;\n",
       "    }\n",
       "\n",
       "    .dataframe tbody tr th {\n",
       "        vertical-align: top;\n",
       "    }\n",
       "\n",
       "    .dataframe thead th {\n",
       "        text-align: right;\n",
       "    }\n",
       "</style>\n",
       "<table border=\"1\" class=\"dataframe\">\n",
       "  <thead>\n",
       "    <tr style=\"text-align: right;\">\n",
       "      <th></th>\n",
       "      <th>Time</th>\n",
       "      <th>Week Day</th>\n",
       "      <th>Energy Usage</th>\n",
       "      <th>cos_x</th>\n",
       "      <th>sin_x</th>\n",
       "    </tr>\n",
       "  </thead>\n",
       "  <tbody>\n",
       "    <tr>\n",
       "      <th>0</th>\n",
       "      <td>2021-01-27 11:00:00</td>\n",
       "      <td>2</td>\n",
       "      <td>8.03</td>\n",
       "      <td>-0.222521</td>\n",
       "      <td>0.974928</td>\n",
       "    </tr>\n",
       "    <tr>\n",
       "      <th>1</th>\n",
       "      <td>2021-01-27 12:00:00</td>\n",
       "      <td>2</td>\n",
       "      <td>6.85</td>\n",
       "      <td>-0.222521</td>\n",
       "      <td>0.974928</td>\n",
       "    </tr>\n",
       "    <tr>\n",
       "      <th>2</th>\n",
       "      <td>2021-01-27 13:00:00</td>\n",
       "      <td>2</td>\n",
       "      <td>8.86</td>\n",
       "      <td>-0.222521</td>\n",
       "      <td>0.974928</td>\n",
       "    </tr>\n",
       "    <tr>\n",
       "      <th>3</th>\n",
       "      <td>2021-01-27 14:00:00</td>\n",
       "      <td>2</td>\n",
       "      <td>7.37</td>\n",
       "      <td>-0.222521</td>\n",
       "      <td>0.974928</td>\n",
       "    </tr>\n",
       "    <tr>\n",
       "      <th>4</th>\n",
       "      <td>2021-01-27 15:00:00</td>\n",
       "      <td>2</td>\n",
       "      <td>7.67</td>\n",
       "      <td>-0.222521</td>\n",
       "      <td>0.974928</td>\n",
       "    </tr>\n",
       "    <tr>\n",
       "      <th>...</th>\n",
       "      <td>...</td>\n",
       "      <td>...</td>\n",
       "      <td>...</td>\n",
       "      <td>...</td>\n",
       "      <td>...</td>\n",
       "    </tr>\n",
       "    <tr>\n",
       "      <th>95</th>\n",
       "      <td>2021-01-31 10:00:00</td>\n",
       "      <td>6</td>\n",
       "      <td>2.24</td>\n",
       "      <td>0.623490</td>\n",
       "      <td>-0.781831</td>\n",
       "    </tr>\n",
       "    <tr>\n",
       "      <th>96</th>\n",
       "      <td>2021-01-31 11:00:00</td>\n",
       "      <td>6</td>\n",
       "      <td>1.98</td>\n",
       "      <td>0.623490</td>\n",
       "      <td>-0.781831</td>\n",
       "    </tr>\n",
       "    <tr>\n",
       "      <th>97</th>\n",
       "      <td>2021-01-31 12:00:00</td>\n",
       "      <td>6</td>\n",
       "      <td>2.52</td>\n",
       "      <td>0.623490</td>\n",
       "      <td>-0.781831</td>\n",
       "    </tr>\n",
       "    <tr>\n",
       "      <th>98</th>\n",
       "      <td>2021-01-31 13:00:00</td>\n",
       "      <td>6</td>\n",
       "      <td>1.96</td>\n",
       "      <td>0.623490</td>\n",
       "      <td>-0.781831</td>\n",
       "    </tr>\n",
       "    <tr>\n",
       "      <th>99</th>\n",
       "      <td>2021-01-31 14:00:00</td>\n",
       "      <td>6</td>\n",
       "      <td>2.15</td>\n",
       "      <td>0.623490</td>\n",
       "      <td>-0.781831</td>\n",
       "    </tr>\n",
       "  </tbody>\n",
       "</table>\n",
       "<p>100 rows × 5 columns</p>\n",
       "</div>"
      ],
      "text/plain": [
       "                  Time  Week Day  Energy Usage     cos_x     sin_x\n",
       "0  2021-01-27 11:00:00         2          8.03 -0.222521  0.974928\n",
       "1  2021-01-27 12:00:00         2          6.85 -0.222521  0.974928\n",
       "2  2021-01-27 13:00:00         2          8.86 -0.222521  0.974928\n",
       "3  2021-01-27 14:00:00         2          7.37 -0.222521  0.974928\n",
       "4  2021-01-27 15:00:00         2          7.67 -0.222521  0.974928\n",
       "..                 ...       ...           ...       ...       ...\n",
       "95 2021-01-31 10:00:00         6          2.24  0.623490 -0.781831\n",
       "96 2021-01-31 11:00:00         6          1.98  0.623490 -0.781831\n",
       "97 2021-01-31 12:00:00         6          2.52  0.623490 -0.781831\n",
       "98 2021-01-31 13:00:00         6          1.96  0.623490 -0.781831\n",
       "99 2021-01-31 14:00:00         6          2.15  0.623490 -0.781831\n",
       "\n",
       "[100 rows x 5 columns]"
      ]
     },
     "execution_count": 4,
     "metadata": {},
     "output_type": "execute_result"
    }
   ],
   "source": [
    "import math\n",
    "WeekDaysNorm = 2 * math.pi * DataFrame[\"Week Day\"] / (DataFrame[\"Week Day\"].max()+1) #+1 cause we start from 0\n",
    "\n",
    "DataFrame[\"cos_x\"] = np.cos(WeekDaysNorm)\n",
    "DataFrame[\"sin_x\"] = np.sin(WeekDaysNorm)\n",
    "\n",
    "DataFrame.head(100)"
   ]
  },
  {
   "cell_type": "markdown",
   "metadata": {},
   "source": [
    "##### Plot "
   ]
  },
  {
   "cell_type": "markdown",
   "metadata": {},
   "source": [
    "* Sin vs Norm Week day "
   ]
  },
  {
   "cell_type": "code",
   "execution_count": 5,
   "metadata": {},
   "outputs": [
    {
     "data": {
      "image/png": "[encoded data removed]",
      "text/plain": [
       "<Figure size 432x288 with 1 Axes>"
      ]
     },
     "metadata": {
      "needs_background": "light"
     },
     "output_type": "display_data"
    }
   ],
   "source": [
    "plt.axes().set_aspect('equal')\n",
    "plt.scatter(WeekDaysNorm,DataFrame['sin_x'])\n",
    "plt.grid()\n"
   ]
  },
  {
   "cell_type": "markdown",
   "metadata": {},
   "source": [
    "* Cos vs Norm Week Day"
   ]
  },
  {
   "cell_type": "code",
   "execution_count": 6,
   "metadata": {},
   "outputs": [
    {
     "data": {
      "image/png": "[encoded data removed]",
      "text/plain": [
       "<Figure size 432x288 with 1 Axes>"
      ]
     },
     "metadata": {
      "needs_background": "light"
     },
     "output_type": "display_data"
    }
   ],
   "source": [
    "plt.axes().set_aspect('equal')\n",
    "plt.scatter(WeekDaysNorm,DataFrame['cos_x'])\n",
    "plt.grid()"
   ]
  },
  {
   "cell_type": "markdown",
   "metadata": {},
   "source": [
    "* Sin vs Cos"
   ]
  },
  {
   "cell_type": "code",
   "execution_count": 7,
   "metadata": {},
   "outputs": [
    {
     "data": {
      "image/png": "[encoded data removed]",
      "text/plain": [
       "<Figure size 432x288 with 1 Axes>"
      ]
     },
     "metadata": {
      "needs_background": "light"
     },
     "output_type": "display_data"
    }
   ],
   "source": [
    "plt.axes().set_aspect('equal')\n",
    "plt.scatter(DataFrame['cos_x'],DataFrame['sin_x'])\n",
    "plt.grid()"
   ]
  },
  {
   "cell_type": "markdown",
   "metadata": {},
   "source": [
    "### Identifying the holidays"
   ]
  },
  {
   "cell_type": "code",
   "execution_count": 8,
   "metadata": {},
   "outputs": [
    {
     "name": "stdout",
     "output_type": "stream",
     "text": [
      "[datetime.date(2021, 1, 1), datetime.date(2021, 1, 6), datetime.date(2021, 4, 5), datetime.date(2021, 5, 1), datetime.date(2021, 5, 13), datetime.date(2021, 5, 24), datetime.date(2021, 6, 3), datetime.date(2021, 8, 15), datetime.date(2021, 10, 26), datetime.date(2021, 11, 1), datetime.date(2021, 12, 8), datetime.date(2021, 12, 25), datetime.date(2021, 12, 26)] 13\n"
     ]
    }
   ],
   "source": [
    "from datetime import date \n",
    "import holidays \n",
    "holidaysList = [] \n",
    "\n",
    "for day, name in sorted(holidays.AT(state='9', years=2021).items()): \n",
    "    holidaysList.append(day)\n",
    "    \n",
    "print(holidaysList, len(holidaysList))"
   ]
  },
  {
   "cell_type": "markdown",
   "metadata": {},
   "source": [
    "* Create a new empty column (filled with zeros) "
   ]
  },
  {
   "cell_type": "code",
   "execution_count": 9,
   "metadata": {},
   "outputs": [],
   "source": [
    "DataFrame.insert(1,\"Holiday\",np.zeros(len(DataFrame)))"
   ]
  },
  {
   "cell_type": "code",
   "execution_count": 10,
   "metadata": {},
   "outputs": [
    {
     "name": "stderr",
     "output_type": "stream",
     "text": [
      "/home/matias_dogliani/virtual_envs/BigData/lib/python3.8/site-packages/pandas/core/indexing.py:1732: SettingWithCopyWarning: \n",
      "A value is trying to be set on a copy of a slice from a DataFrame\n",
      "\n",
      "See the caveats in the documentation: https://pandas.pydata.org/pandas-docs/stable/user_guide/indexing.html#returning-a-view-versus-a-copy\n",
      "  self._setitem_single_block(indexer, value, name)\n"
     ]
    }
   ],
   "source": [
    "for i,date in enumerate(DataFrame['Time']):\n",
    "    if date in holidaysList: \n",
    "        DataFrame[\"Holiday\"].loc[i] = 1 "
   ]
  },
  {
   "cell_type": "markdown",
   "metadata": {},
   "source": [
    "* Check if it's worked"
   ]
  },
  {
   "cell_type": "code",
   "execution_count": 11,
   "metadata": {},
   "outputs": [
    {
     "name": "stdout",
     "output_type": "stream",
     "text": [
      "2021-04-05 23:00:00\n",
      "2021-05-01 23:00:00\n",
      "2021-05-13 23:00:00\n",
      "2021-05-24 23:00:00\n",
      "2021-06-03 23:00:00\n",
      "2021-08-15 23:00:00\n",
      "2021-10-26 23:00:00\n",
      "2021-11-01 23:00:00\n"
     ]
    }
   ],
   "source": [
    "for i,date in enumerate(DataFrame[\"Time\"]): \n",
    "    if DataFrame['Holiday'][i] >0:\n",
    "        if date.day != DataFrame[\"Time\"][i+1].day: \n",
    "            print(date)"
   ]
  }
 ],
 "metadata": {
  "kernelspec": {
   "display_name": "BigData",
   "language": "python",
   "name": "bigdata"
  },
  "language_info": {
   "codemirror_mode": {
    "name": "ipython",
    "version": 3
   },
   "file_extension": ".py",
   "mimetype": "text/x-python",
   "name": "python",
   "nbconvert_exporter": "python",
   "pygments_lexer": "ipython3",
   "version": "3.8.10"
  }
 },
 "nbformat": 4,
 "nbformat_minor": 4
}
