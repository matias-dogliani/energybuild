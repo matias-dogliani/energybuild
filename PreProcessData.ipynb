{
 "cells": [
  {
   "cell_type": "markdown",
   "metadata": {},
   "source": [
    "# Data pre process"
   ]
  },
  {
   "cell_type": "code",
   "execution_count": 1,
   "metadata": {},
   "outputs": [],
   "source": [
    "import pandas as pd\n",
    "import numpy as np\n",
    "import matplotlib.pyplot as plt\n",
    "DataFrame = pd.read_excel('./DataSets/Building_energy.xlsx', header=1)"
   ]
  },
  {
   "cell_type": "code",
   "execution_count": 2,
   "metadata": {},
   "outputs": [
    {
     "data": {
      "text/html": [
       "<div>\n",
       "<style scoped>\n",
       "    .dataframe tbody tr th:only-of-type {\n",
       "        vertical-align: middle;\n",
       "    }\n",
       "\n",
       "    .dataframe tbody tr th {\n",
       "        vertical-align: top;\n",
       "    }\n",
       "\n",
       "    .dataframe thead th {\n",
       "        text-align: right;\n",
       "    }\n",
       "</style>\n",
       "<table border=\"1\" class=\"dataframe\">\n",
       "  <thead>\n",
       "    <tr style=\"text-align: right;\">\n",
       "      <th></th>\n",
       "      <th>Time</th>\n",
       "      <th>reading</th>\n",
       "    </tr>\n",
       "  </thead>\n",
       "  <tbody>\n",
       "    <tr>\n",
       "      <th>0</th>\n",
       "      <td>2021-01-27 11:00:00</td>\n",
       "      <td>8.03 kWh</td>\n",
       "    </tr>\n",
       "    <tr>\n",
       "      <th>1</th>\n",
       "      <td>2021-01-27 12:00:00</td>\n",
       "      <td>6.85 kWh</td>\n",
       "    </tr>\n",
       "    <tr>\n",
       "      <th>2</th>\n",
       "      <td>2021-01-27 13:00:00</td>\n",
       "      <td>8.86 kWh</td>\n",
       "    </tr>\n",
       "    <tr>\n",
       "      <th>3</th>\n",
       "      <td>2021-01-27 14:00:00</td>\n",
       "      <td>7.37 kWh</td>\n",
       "    </tr>\n",
       "    <tr>\n",
       "      <th>4</th>\n",
       "      <td>2021-01-27 15:00:00</td>\n",
       "      <td>7.67 kWh</td>\n",
       "    </tr>\n",
       "  </tbody>\n",
       "</table>\n",
       "</div>"
      ],
      "text/plain": [
       "                  Time   reading\n",
       "0  2021-01-27 11:00:00  8.03 kWh\n",
       "1  2021-01-27 12:00:00  6.85 kWh\n",
       "2  2021-01-27 13:00:00  8.86 kWh\n",
       "3  2021-01-27 14:00:00  7.37 kWh\n",
       "4  2021-01-27 15:00:00  7.67 kWh"
      ]
     },
     "execution_count": 2,
     "metadata": {},
     "output_type": "execute_result"
    }
   ],
   "source": [
    "DataFrame.head()"
   ]
  },
  {
   "cell_type": "code",
   "execution_count": 3,
   "metadata": {},
   "outputs": [
    {
     "name": "stdout",
     "output_type": "stream",
     "text": [
      "<class 'pandas.core.frame.DataFrame'>\n",
      "RangeIndex: 6726 entries, 0 to 6725\n",
      "Data columns (total 2 columns):\n",
      " #   Column   Non-Null Count  Dtype \n",
      "---  ------   --------------  ----- \n",
      " 0   Time     6726 non-null   object\n",
      " 1   reading  6726 non-null   object\n",
      "dtypes: object(2)\n",
      "memory usage: 105.2+ KB\n"
     ]
    }
   ],
   "source": [
    "DataFrame.info(verbose=True)"
   ]
  },
  {
   "cell_type": "code",
   "execution_count": 4,
   "metadata": {},
   "outputs": [
    {
     "data": {
      "text/plain": [
       "Index(['Time', 'reading'], dtype='object')"
      ]
     },
     "execution_count": 4,
     "metadata": {},
     "output_type": "execute_result"
    }
   ],
   "source": [
    "DataFrame.columns "
   ]
  },
  {
   "cell_type": "markdown",
   "metadata": {},
   "source": [
    "* Splitting the date info "
   ]
  },
  {
   "cell_type": "code",
   "execution_count": 5,
   "metadata": {},
   "outputs": [
    {
     "data": {
      "text/html": [
       "<div>\n",
       "<style scoped>\n",
       "    .dataframe tbody tr th:only-of-type {\n",
       "        vertical-align: middle;\n",
       "    }\n",
       "\n",
       "    .dataframe tbody tr th {\n",
       "        vertical-align: top;\n",
       "    }\n",
       "\n",
       "    .dataframe thead th {\n",
       "        text-align: right;\n",
       "    }\n",
       "</style>\n",
       "<table border=\"1\" class=\"dataframe\">\n",
       "  <thead>\n",
       "    <tr style=\"text-align: right;\">\n",
       "      <th></th>\n",
       "      <th>year</th>\n",
       "      <th>month</th>\n",
       "      <th>day</th>\n",
       "      <th>hour</th>\n",
       "      <th>reading</th>\n",
       "    </tr>\n",
       "  </thead>\n",
       "  <tbody>\n",
       "    <tr>\n",
       "      <th>0</th>\n",
       "      <td>2021</td>\n",
       "      <td>1</td>\n",
       "      <td>27</td>\n",
       "      <td>11</td>\n",
       "      <td>8.03 kWh</td>\n",
       "    </tr>\n",
       "    <tr>\n",
       "      <th>1</th>\n",
       "      <td>2021</td>\n",
       "      <td>1</td>\n",
       "      <td>27</td>\n",
       "      <td>12</td>\n",
       "      <td>6.85 kWh</td>\n",
       "    </tr>\n",
       "    <tr>\n",
       "      <th>2</th>\n",
       "      <td>2021</td>\n",
       "      <td>1</td>\n",
       "      <td>27</td>\n",
       "      <td>13</td>\n",
       "      <td>8.86 kWh</td>\n",
       "    </tr>\n",
       "    <tr>\n",
       "      <th>3</th>\n",
       "      <td>2021</td>\n",
       "      <td>1</td>\n",
       "      <td>27</td>\n",
       "      <td>14</td>\n",
       "      <td>7.37 kWh</td>\n",
       "    </tr>\n",
       "    <tr>\n",
       "      <th>4</th>\n",
       "      <td>2021</td>\n",
       "      <td>1</td>\n",
       "      <td>27</td>\n",
       "      <td>15</td>\n",
       "      <td>7.67 kWh</td>\n",
       "    </tr>\n",
       "  </tbody>\n",
       "</table>\n",
       "</div>"
      ],
      "text/plain": [
       "   year  month  day  hour   reading\n",
       "0  2021      1   27    11  8.03 kWh\n",
       "1  2021      1   27    12  6.85 kWh\n",
       "2  2021      1   27    13  8.86 kWh\n",
       "3  2021      1   27    14  7.37 kWh\n",
       "4  2021      1   27    15  7.67 kWh"
      ]
     },
     "execution_count": 5,
     "metadata": {},
     "output_type": "execute_result"
    }
   ],
   "source": [
    "import datetime\n",
    "\n",
    "year = []\n",
    "month = []\n",
    "day = []\n",
    "hour = []\n",
    "for row in DataFrame['Time']: \n",
    "    dt = datetime.datetime.strptime(row, \"%Y-%m-%d %H:%M:%S\")\n",
    "    year.append(dt.year)\n",
    "    month.append(dt.month)\n",
    "    day.append(dt.day)\n",
    "    hour.append(dt.hour)\n",
    "    \n",
    "#Delete Time column and insert these new 4 columns \n",
    "DataFrame.drop('Time', inplace = True, axis=1) \n",
    "\n",
    "#Insert the newones \n",
    "DataFrame.insert(0, 'year',year)\n",
    "DataFrame.insert(1, 'month',month)\n",
    "DataFrame.insert(2, 'day',day)\n",
    "DataFrame.insert(3, 'hour',hour)\n",
    "\n",
    "#Check if it worked \n",
    "DataFrame.head()"
   ]
  },
  {
   "cell_type": "code",
   "execution_count": 6,
   "metadata": {},
   "outputs": [
    {
     "data": {
      "text/html": [
       "<div>\n",
       "<style scoped>\n",
       "    .dataframe tbody tr th:only-of-type {\n",
       "        vertical-align: middle;\n",
       "    }\n",
       "\n",
       "    .dataframe tbody tr th {\n",
       "        vertical-align: top;\n",
       "    }\n",
       "\n",
       "    .dataframe thead th {\n",
       "        text-align: right;\n",
       "    }\n",
       "</style>\n",
       "<table border=\"1\" class=\"dataframe\">\n",
       "  <thead>\n",
       "    <tr style=\"text-align: right;\">\n",
       "      <th></th>\n",
       "      <th>year</th>\n",
       "      <th>month</th>\n",
       "      <th>day</th>\n",
       "      <th>hour</th>\n",
       "      <th>Energy Usage</th>\n",
       "    </tr>\n",
       "  </thead>\n",
       "  <tbody>\n",
       "    <tr>\n",
       "      <th>0</th>\n",
       "      <td>2021</td>\n",
       "      <td>1</td>\n",
       "      <td>27</td>\n",
       "      <td>11</td>\n",
       "      <td>8.03</td>\n",
       "    </tr>\n",
       "    <tr>\n",
       "      <th>1</th>\n",
       "      <td>2021</td>\n",
       "      <td>1</td>\n",
       "      <td>27</td>\n",
       "      <td>12</td>\n",
       "      <td>6.85</td>\n",
       "    </tr>\n",
       "    <tr>\n",
       "      <th>2</th>\n",
       "      <td>2021</td>\n",
       "      <td>1</td>\n",
       "      <td>27</td>\n",
       "      <td>13</td>\n",
       "      <td>8.86</td>\n",
       "    </tr>\n",
       "    <tr>\n",
       "      <th>3</th>\n",
       "      <td>2021</td>\n",
       "      <td>1</td>\n",
       "      <td>27</td>\n",
       "      <td>14</td>\n",
       "      <td>7.37</td>\n",
       "    </tr>\n",
       "    <tr>\n",
       "      <th>4</th>\n",
       "      <td>2021</td>\n",
       "      <td>1</td>\n",
       "      <td>27</td>\n",
       "      <td>15</td>\n",
       "      <td>7.67</td>\n",
       "    </tr>\n",
       "  </tbody>\n",
       "</table>\n",
       "</div>"
      ],
      "text/plain": [
       "   year  month  day  hour  Energy Usage\n",
       "0  2021      1   27    11          8.03\n",
       "1  2021      1   27    12          6.85\n",
       "2  2021      1   27    13          8.86\n",
       "3  2021      1   27    14          7.37\n",
       "4  2021      1   27    15          7.67"
      ]
     },
     "execution_count": 6,
     "metadata": {},
     "output_type": "execute_result"
    }
   ],
   "source": [
    "#Removing Units from Reading column\n",
    "reading  = [float(s.replace(\" kWh\",'')) for s in DataFrame['reading']]\n",
    "#Insert the new values without the units\n",
    "DataFrame.insert(5, 'Energy Usage',reading)\n",
    "\n",
    "#Remove the old one\n",
    "DataFrame.drop('reading', inplace = True, axis=1) \n",
    "\n",
    "#check \n",
    "DataFrame.head()"
   ]
  },
  {
   "cell_type": "markdown",
   "metadata": {},
   "source": [
    "* Plot Energy Usage"
   ]
  },
  {
   "cell_type": "code",
   "execution_count": 7,
   "metadata": {},
   "outputs": [
    {
     "data": {
      "image/png": "[encoded data removed]",
      "text/plain": [
       "<Figure size 432x288 with 1 Axes>"
      ]
     },
     "metadata": {
      "needs_background": "light"
     },
     "output_type": "display_data"
    }
   ],
   "source": [
    "plt.scatter(DataFrame.index,DataFrame['Energy Usage'])\n",
    "plt.xlabel('Hours - n sample')\n",
    "plt.ylabel(\"Energy Usage [kW]\")\n",
    "plt.grid() \n"
   ]
  },
  {
   "cell_type": "code",
   "execution_count": 8,
   "metadata": {},
   "outputs": [
    {
     "data": {
      "text/plain": [
       "<Figure size 432x288 with 0 Axes>"
      ]
     },
     "metadata": {},
     "output_type": "display_data"
    },
    {
     "data": {
      "image/png": "[encoded data removed]",
      "text/plain": [
       "<Figure size 1224x360 with 1 Axes>"
      ]
     },
     "metadata": {
      "needs_background": "light"
     },
     "output_type": "display_data"
    }
   ],
   "source": [
    "#We have to make it better, but later\n",
    "plt.figure()\n",
    "plt.figure(figsize=(17, 5))\n",
    "plt.hist(DataFrame['Energy Usage'], bins=120) \n",
    "\n",
    "plt.xlim([-5,20])\n",
    "plt.ylim([-20,200])\n",
    "plt.show()\n",
    "#looks like a Gaussian "
   ]
  },
  {
   "cell_type": "code",
   "execution_count": 81,
   "metadata": {},
   "outputs": [
    {
     "data": {
      "text/plain": [
       "<Figure size 432x288 with 0 Axes>"
      ]
     },
     "metadata": {},
     "output_type": "display_data"
    },
    {
     "data": {
      "image/png": "[encoded data removed]",
      "text/plain": [
       "<Figure size 1224x360 with 1 Axes>"
      ]
     },
     "metadata": {
      "needs_background": "light"
     },
     "output_type": "display_data"
    }
   ],
   "source": [
    "#We have to make it better, but later\n",
    "plt.figure()\n",
    "plt.figure(figsize=(17, 5))\n",
    "plt.hist(DataFrame['Energy Usage'], bins=120) \n",
    "plt.xlabel(\"KwH\")\n",
    "plt.ylabel(\"Samples Count\")\n",
    "plt.grid('--')\n",
    "plt.xlim([-5,20])\n",
    "plt.show()"
   ]
  },
  {
   "cell_type": "markdown",
   "metadata": {},
   "source": [
    "* Gaussian vs our *Energy Usage* distribution"
   ]
  },
  {
   "cell_type": "code",
   "execution_count": 107,
   "metadata": {},
   "outputs": [
    {
     "data": {
      "text/plain": [
       "<Figure size 432x288 with 0 Axes>"
      ]
     },
     "metadata": {},
     "output_type": "display_data"
    },
    {
     "data": {
      "image/png": "[encoded data removed]",
      "text/plain": [
       "<Figure size 1224x360 with 1 Axes>"
      ]
     },
     "metadata": {
      "needs_background": "light"
     },
     "output_type": "display_data"
    }
   ],
   "source": [
    "mu = np.mean(DataFrame['Energy Usage'])\n",
    "std = np.std(DataFrame['Energy Usage'])\n",
    "\n",
    "datos = np.random.normal(mu, std, 30000) #creando muestra de datos\n",
    "\n",
    "\n",
    "plt.figure()\n",
    "plt.figure(figsize=(17, 5))\n",
    "plt.hist(DataFrame['Energy Usage'], bins=120)\n",
    "plt.hist(datos,bins=120,alpha=.2,color='gray',lw=.75,linestyle=':')\n",
    "plt.xlabel(\"KwH\")\n",
    "plt.ylabel(\"Samples Count\")\n",
    "plt.xlim([-5,20])\n",
    "plt.show()"
   ]
  },
  {
   "cell_type": "markdown",
   "metadata": {},
   "source": [
    "### Deleting the anomalies \n",
    "\n"
   ]
  },
  {
   "cell_type": "code",
   "execution_count": 11,
   "metadata": {},
   "outputs": [],
   "source": [
    "def find_anomalies(data):\n",
    "    #define a list to accumlate anomalies\n",
    "    anomalies = []\n",
    "    idx_anomalies = []\n",
    "    \n",
    "    idx_count = 0 \n",
    "\n",
    "    # Set upper and lower limit to 3 standard deviation\n",
    "    data_std = np.std(data)\n",
    "    data_mean = np.mean(data)\n",
    "    anomaly_cut_off = data_std * 4\n",
    "    \n",
    "    lower_limit  = data_mean - anomaly_cut_off \n",
    "    upper_limit = data_mean + anomaly_cut_off\n",
    "    \n",
    "    # Generate outliers\n",
    "    for outlier in data:\n",
    "        if outlier > upper_limit or outlier < lower_limit:\n",
    "            anomalies.append(outlier)\n",
    "           # print(\"The outlier now is \", outlier)\n",
    "            if len(data.loc[(DataFrame[\"Energy Usage\"] == outlier)]) > 1: \n",
    "                #print(\"We have more than one element of this value\")\n",
    "                idx_anomalies.append(int(data.loc[(DataFrame[\"Energy Usage\"] == outlier)].index[idx_count]))\n",
    "                #print(\"This is the\",idx_count+1,\"that we found the element\")\n",
    "                idx_count +=1\n",
    "            else: \n",
    "                #print(\"We only have one element that meets the condition to be an outlier\")\n",
    "                idx_anomalies.append(int(data.loc[(DataFrame[\"Energy Usage\"] == outlier)].index[0]))\n",
    "                \n",
    "        \n",
    "    return anomalies, idx_anomalies\n"
   ]
  },
  {
   "cell_type": "code",
   "execution_count": 12,
   "metadata": {},
   "outputs": [
    {
     "data": {
      "text/plain": [
       "([14.7, 14.8, 32.1, 14.7, -3.6], [218, 1035, 3957, 5158, 5222])"
      ]
     },
     "execution_count": 12,
     "metadata": {},
     "output_type": "execute_result"
    }
   ],
   "source": [
    "find_anomalies(DataFrame[\"Energy Usage\"])"
   ]
  },
  {
   "cell_type": "code",
   "execution_count": null,
   "metadata": {},
   "outputs": [],
   "source": []
  }
 ],
 "metadata": {
  "kernelspec": {
   "display_name": "BigData",
   "language": "python",
   "name": "bigdata"
  },
  "language_info": {
   "codemirror_mode": {
    "name": "ipython",
    "version": 3
   },
   "file_extension": ".py",
   "mimetype": "text/x-python",
   "name": "python",
   "nbconvert_exporter": "python",
   "pygments_lexer": "ipython3",
   "version": "3.8.10"
  }
 },
 "nbformat": 4,
 "nbformat_minor": 5
}
