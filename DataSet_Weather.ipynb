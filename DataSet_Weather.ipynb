{
 "cells": [
  {
   "cell_type": "markdown",
   "metadata": {},
   "source": [
    "# Weather API \n",
    "\n",
    "\n",
    "In this NB we import the weather data, preprocess if is needed and save as a new Data Frame. \n",
    "\n",
    "\n",
    "### Historical Data \n",
    "\n",
    "For training and testing the model we use the historicla weather data related to our energy consumption data provided. \n",
    "\n",
    "For that, we'll use the API provided by [AT-Wetter](http://at-wetter.tk/index.php?men=api). We'll use this one, and not the OpenWeather API since if we want to get the historical data depth more than a week (we need a year) we'll have to use several queries. \n",
    "\n",
    "\n",
    "#### API \n",
    "\n",
    "This API don't need a Key or other autentication. It's located on the AT-Server in `http://at-wetter.tk/api/v1/.`\n",
    "The instruction to use it are in their [website](http://at-wetter.tk/index.php?men=api) \n",
    "\n",
    "#### Example \n",
    "\n",
    "To query **all the available stations** we need a call following the format: \n",
    "`/api/v1/[field]/[YYYY-MM-DD]/[day count]` \n",
    "\n",
    "A query call to `http://at-wetter.tk/api/v1/t/2014-08-01/2`  returns Temperature Data for every available station for 2014-08-01, 2 days in the past. \n",
    "\n",
    "\n",
    "\n",
    "To query just **one specific stations** we use: \n",
    "\n",
    "`/api/v1/station/[station]/[field]|[all]/[YYYY-MM-DD]/[day count]`\n",
    "\n",
    "This will return the `[field]` from the specified date `[YYYY-MM-DD]` and prints data `[day count]` days in the past for the specified stations `[station]`\n",
    "\n"
   ]
  },
  {
   "cell_type": "markdown",
   "metadata": {},
   "source": [
    "### Calling the API\n"
   ]
  },
  {
   "cell_type": "code",
   "execution_count": 13,
   "metadata": {},
   "outputs": [],
   "source": [
    "import requests as rq\n",
    "import json\n",
    "import datetime as dt\n",
    "import pandas as pd"
   ]
  },
  {
   "cell_type": "markdown",
   "metadata": {},
   "source": [
    "* See the available stations "
   ]
  },
  {
   "cell_type": "code",
   "execution_count": null,
   "metadata": {},
   "outputs": [],
   "source": [
    "URL =\"http://at-wetter.tk/api/v1/stations\"\n",
    "response = rq.request(\"GET\", URL)\n",
    "print(response.text)"
   ]
  },
  {
   "cell_type": "markdown",
   "metadata": {},
   "source": [
    "* Calculate de day count from Building Energy Data set \n",
    "\n",
    "We cold do it manually, but in order to automated all the steps we'll calculated with a python script "
   ]
  },
  {
   "cell_type": "code",
   "execution_count": null,
   "metadata": {},
   "outputs": [],
   "source": [
    "import pandas as pd \n",
    "DataFrame = pd.read_excel(\"./DataSets/Building_energy.xlsx\", header=1)\n",
    "DataFrame.head()\n",
    "\n",
    "#Calculate the Delta Time \n",
    "\n",
    "start_date = dt.datetime.strptime(DataFrame['Time'][0], \"%Y-%m-%d %H:%M:%S\")\n",
    "end_date = dt.datetime.strptime(DataFrame['Time'][len(DataFrame)-1], \"%Y-%m-%d %H:%M:%S\")\n",
    "day_count = end_date - start_date\n",
    "print(day_count.days)\n"
   ]
  },
  {
   "cell_type": "markdown",
   "metadata": {},
   "source": [
    "As the `[daycount]` field for API Query doesn't allow hours, if we have any hours of difference between the start day and the end day, we add an extra day. Then in the data frame matching we'll delethe the extra hours for the extra day. "
   ]
  },
  {
   "cell_type": "code",
   "execution_count": null,
   "metadata": {},
   "outputs": [],
   "source": [
    "dayCount=0 \n",
    "if day_count.seconds //3600 > 0: \n",
    "    dayCount = day_count.days + 1\n",
    "else: \n",
    "    dayCount = day_count.days\n",
    "print(dayCount)"
   ]
  },
  {
   "cell_type": "markdown",
   "metadata": {},
   "source": [
    "* Download the temperature data"
   ]
  },
  {
   "cell_type": "code",
   "execution_count": null,
   "metadata": {},
   "outputs": [],
   "source": [
    "station = '11240' #GRAZ \n",
    "field = 'all'  #Temperatuer\n",
    "days_count = str(day_count.days)\n",
    "\n",
    "URL = \"http://at-wetter.tk/api/v1/station/\"\n",
    "URL += station \n",
    "URL += \"/\" + field\n",
    "URL += \"/\" + str(end_date.year) + \"-\" + str(end_date.month) + \"-\" + str(end_date.day)\n",
    "URL += \"/\" + str(dayCount)\n",
    "response = rq.request(\"GET\", URL)\n",
    "\n",
    "print(URL)\n",
    "#print(response.text)\n",
    "type(response.text)\n"
   ]
  },
  {
   "cell_type": "code",
   "execution_count": null,
   "metadata": {},
   "outputs": [],
   "source": [
    "#response.json(encoding=\"utf-8\")\n",
    "#print(response.text)"
   ]
  },
  {
   "cell_type": "markdown",
   "metadata": {},
   "source": [
    "* Saving the data into a Data Frame \n",
    "\n",
    "Since the data can't be downloaded in JSON format, we first split the whole text into lineas, and then elements. "
   ]
  },
  {
   "cell_type": "code",
   "execution_count": null,
   "metadata": {},
   "outputs": [],
   "source": [
    "lines = response.text.splitlines()\n",
    "ColumnNames = [ (col.replace(\"'\",'')) for col in lines[0].split(\";\") ]\n",
    "WeatDataFrame = pd.DataFrame(columns=ColumnNames, index=range(len(lines)-2)) # -1 cause the columnames and -1 again cuase it starts from 0 "
   ]
  },
  {
   "cell_type": "markdown",
   "metadata": {},
   "source": [
    "The index of the daframe starts from 0 but the first line of response.text is the ColumnName row. So we start from 0 for the DataFrame index and for idx+1 for lineas"
   ]
  },
  {
   "cell_type": "code",
   "execution_count": null,
   "metadata": {},
   "outputs": [],
   "source": [
    "for idx in range(len(lines)-2):  \n",
    "    WeatDataFrame.iloc[idx] = [ (col.replace(\"'\",'')) for col in lines[idx+1].split(\";\") ]\n",
    "WeatDataFrame"
   ]
  },
  {
   "cell_type": "markdown",
   "metadata": {},
   "source": [
    "* Changing the datum and zeit column into a newone with datetime type object"
   ]
  },
  {
   "cell_type": "code",
   "execution_count": null,
   "metadata": {},
   "outputs": [],
   "source": [
    "WeatDataFrame.info()"
   ]
  },
  {
   "cell_type": "code",
   "execution_count": null,
   "metadata": {},
   "outputs": [],
   "source": [
    "WeatDataFrame[\"datum\"][:]"
   ]
  },
  {
   "cell_type": "code",
   "execution_count": null,
   "metadata": {},
   "outputs": [],
   "source": [
    "from datetime import datetime as dt \n",
    "\n",
    "dates=[] \n",
    "for idx in range(len(WeatDataFrame[\"datum\"])): \n",
    "    str_date = str(WeatDataFrame[\"datum\"][idx]) + \" \" + str(WeatDataFrame[\"zeit\"][idx])\n",
    "    dt = dt.strptime(str_date, \"%Y-%m-%d %H:%M\")\n",
    "    dates.append(dt)\n",
    "\n",
    "print(len(dates), len(WeatDataFrame.index))\n",
    "WeatDataFrame.insert(0,\"Time\",dates)"
   ]
  },
  {
   "cell_type": "code",
   "execution_count": null,
   "metadata": {},
   "outputs": [],
   "source": [
    "WeatDataFrame"
   ]
  },
  {
   "cell_type": "markdown",
   "metadata": {},
   "source": [
    "* Deleting the timestamps column, zatum and zeit "
   ]
  },
  {
   "cell_type": "code",
   "execution_count": null,
   "metadata": {},
   "outputs": [],
   "source": [
    "WeatDataFrame.drop('datum', inplace = True, axis=1) \n",
    "WeatDataFrame.drop('zeit', inplace = True, axis=1) \n",
    "WeatDataFrame.drop('timestamp', inplace = True, axis=1) \n"
   ]
  },
  {
   "cell_type": "markdown",
   "metadata": {},
   "source": [
    "Save the data frame into a csv file "
   ]
  },
  {
   "cell_type": "code",
   "execution_count": 5,
   "metadata": {},
   "outputs": [
    {
     "ename": "NameError",
     "evalue": "name 'WeatDataFrame' is not defined",
     "output_type": "error",
     "traceback": [
      "\u001b[0;31m---------------------------------------------------------------------------\u001b[0m",
      "\u001b[0;31mNameError\u001b[0m                                 Traceback (most recent call last)",
      "\u001b[0;32m/tmp/ipykernel_218119/91200261.py\u001b[0m in \u001b[0;36m<module>\u001b[0;34m\u001b[0m\n\u001b[0;32m----> 1\u001b[0;31m \u001b[0mWeatDataFrame\u001b[0m\u001b[0;34m.\u001b[0m\u001b[0mto_csv\u001b[0m\u001b[0;34m(\u001b[0m\u001b[0;34m\"./DataSets/Raw_Weather_DataSet.csv\"\u001b[0m\u001b[0;34m,\u001b[0m\u001b[0mindex\u001b[0m\u001b[0;34m=\u001b[0m\u001b[0;32mFalse\u001b[0m\u001b[0;34m)\u001b[0m\u001b[0;34m\u001b[0m\u001b[0;34m\u001b[0m\u001b[0m\n\u001b[0m",
      "\u001b[0;31mNameError\u001b[0m: name 'WeatDataFrame' is not defined"
     ]
    }
   ],
   "source": [
    "WeatDataFrame.to_csv(\"./DataSets/Raw_Weather_DataSet.csv\",index=False)"
   ]
  },
  {
   "cell_type": "markdown",
   "metadata": {},
   "source": [
    "### Forecast \n",
    "#### API \n",
    "\n",
    "We'll use python to request de dataset from the OpenWeather data base. The API  request call should be in this format: \n",
    "\n",
    "``` http://history.openweathermap.org/data/2.5/history/city?q={city ID},{country code}&type=hour&start={start}&end={end}&appid={API key}```\n",
    "\n",
    "#### Usage \n",
    "\n",
    "Once we introduce the day that we want to predict we request for that day's forecast. If we have it, we arrange all the necessarry inputs for that day (temp, holiday, week day,etc) and we introduce them into the model. "
   ]
  },
  {
   "cell_type": "code",
   "execution_count": 2,
   "metadata": {},
   "outputs": [],
   "source": [
    "API_Key = \"8b99cd46b801c25195aef4cca39daee5\""
   ]
  },
  {
   "cell_type": "code",
   "execution_count": 18,
   "metadata": {},
   "outputs": [
    {
     "name": "stdout",
     "output_type": "stream",
     "text": [
      "{\"cod\":\"200\",\"message\":0,\"cnt\":40,\"list\":[{\"dt\":1637539200,\"main\":{\"temp\":276.03,\"feels_like\":276.03,\"temp_min\":276.03,\"temp_max\":277.57,\"pressure\":1013,\"sea_level\":1013,\"grnd_level\":969,\"humidity\":73,\"temp_kf\":-1.54},\"weather\":[{\"id\":804,\"main\":\"Clouds\",\"description\":\"overcast clouds\",\"icon\":\"04n\"}],\"clouds\":{\"all\":90},\"wind\":{\"speed\":0.75,\"deg\":355,\"gust\":0.75},\"visibility\":10000,\"pop\":0,\"sys\":{\"pod\":\"n\"},\"dt_txt\":\"2021-11-22 00:00:00\"},{\"dt\":1637550000,\"main\":{\"temp\":276.4,\"feels_like\":276.4,\"temp_min\":276.4,\"temp_max\":277.15,\"pressure\":1013,\"sea_level\":1013,\"grnd_level\":970,\"humidity\":78,\"temp_kf\":-0.75},\"weather\":[{\"id\":804,\"main\":\"Clouds\",\"description\":\"overcast clouds\",\"icon\":\"04n\"}],\"clouds\":{\"all\":93},\"wind\":{\"speed\":0.49,\"deg\":338,\"gust\":0.48},\"visibility\":10000,\"pop\":0,\"sys\":{\"pod\":\"n\"},\"dt_txt\":\"2021-11-22 03:00:00\"},{\"dt\":1637560800,\"main\":{\"temp\":276.63,\"feels_like\":276.63,\"temp_min\":276.63,\"temp_max\":276.93,\"pressure\":1014,\"sea_level\":1014,\"grnd_level\":971,\"humidity\":83,\"temp_kf\":-0.3},\"weather\":[{\"id\":804,\"main\":\"Clouds\",\"description\":\"overcast clouds\",\"icon\":\"04n\"}],\"clouds\":{\"all\":96},\"wind\":{\"speed\":0.6,\"deg\":305,\"gust\":0.67},\"visibility\":10000,\"pop\":0,\"sys\":{\"pod\":\"n\"},\"dt_txt\":\"2021-11-22 06:00:00\"},{\"dt\":1637571600,\"main\":{\"temp\":279.78,\"feels_like\":279.78,\"temp_min\":279.78,\"temp_max\":279.78,\"pressure\":1016,\"sea_level\":1016,\"grnd_level\":973,\"humidity\":72,\"temp_kf\":0},\"weather\":[{\"id\":804,\"main\":\"Clouds\",\"description\":\"overcast clouds\",\"icon\":\"04d\"}],\"clouds\":{\"all\":100},\"wind\":{\"speed\":0.21,\"deg\":336,\"gust\":0.67},\"visibility\":10000,\"pop\":0,\"sys\":{\"pod\":\"d\"},\"dt_txt\":\"2021-11-22 09:00:00\"},{\"dt\":1637582400,\"main\":{\"temp\":281.58,\"feels_like\":281.58,\"temp_min\":281.58,\"temp_max\":281.58,\"pressure\":1016,\"sea_level\":1016,\"grnd_level\":973,\"humidity\":63,\"temp_kf\":0},\"weather\":[{\"id\":804,\"main\":\"Clouds\",\"description\":\"overcast clouds\",\"icon\":\"04d\"}],\"clouds\":{\"all\":100},\"wind\":{\"speed\":0.43,\"deg\":29,\"gust\":1.45},\"visibility\":10000,\"pop\":0.01,\"sys\":{\"pod\":\"d\"},\"dt_txt\":\"2021-11-22 12:00:00\"},{\"dt\":1637593200,\"main\":{\"temp\":280.23,\"feels_like\":280.23,\"temp_min\":280.23,\"temp_max\":280.23,\"pressure\":1018,\"sea_level\":1018,\"grnd_level\":974,\"humidity\":74,\"temp_kf\":0},\"weather\":[{\"id\":804,\"main\":\"Clouds\",\"description\":\"overcast clouds\",\"icon\":\"04d\"}],\"clouds\":{\"all\":100},\"wind\":{\"speed\":0.31,\"deg\":104,\"gust\":1.08},\"visibility\":10000,\"pop\":0,\"sys\":{\"pod\":\"d\"},\"dt_txt\":\"2021-11-22 15:00:00\"},{\"dt\":1637604000,\"main\":{\"temp\":279.32,\"feels_like\":279.32,\"temp_min\":279.32,\"temp_max\":279.32,\"pressure\":1020,\"sea_level\":1020,\"grnd_level\":976,\"humidity\":79,\"temp_kf\":0},\"weather\":[{\"id\":804,\"main\":\"Clouds\",\"description\":\"overcast clouds\",\"icon\":\"04n\"}],\"clouds\":{\"all\":100},\"wind\":{\"speed\":0.21,\"deg\":194,\"gust\":1.48},\"visibility\":10000,\"pop\":0.02,\"sys\":{\"pod\":\"n\"},\"dt_txt\":\"2021-11-22 18:00:00\"},{\"dt\":1637614800,\"main\":{\"temp\":278.71,\"feels_like\":278.71,\"temp_min\":278.71,\"temp_max\":278.71,\"pressure\":1022,\"sea_level\":1022,\"grnd_level\":978,\"humidity\":82,\"temp_kf\":0},\"weather\":[{\"id\":804,\"main\":\"Clouds\",\"description\":\"overcast clouds\",\"icon\":\"04n\"}],\"clouds\":{\"all\":100},\"wind\":{\"speed\":0.71,\"deg\":339,\"gust\":1.16},\"visibility\":10000,\"pop\":0.1,\"sys\":{\"pod\":\"n\"},\"dt_txt\":\"2021-11-22 21:00:00\"},{\"dt\":1637625600,\"main\":{\"temp\":277.93,\"feels_like\":277.93,\"temp_min\":277.93,\"temp_max\":277.93,\"pressure\":1024,\"sea_level\":1024,\"grnd_level\":979,\"humidity\":82,\"temp_kf\":0},\"weather\":[{\"id\":804,\"main\":\"Clouds\",\"description\":\"overcast clouds\",\"icon\":\"04n\"}],\"clouds\":{\"all\":99},\"wind\":{\"speed\":1.07,\"deg\":334,\"gust\":1.23},\"visibility\":10000,\"pop\":0.1,\"sys\":{\"pod\":\"n\"},\"dt_txt\":\"2021-11-23 00:00:00\"},{\"dt\":1637636400,\"main\":{\"temp\":277.37,\"feels_like\":277.37,\"temp_min\":277.37,\"temp_max\":277.37,\"pressure\":1024,\"sea_level\":1024,\"grnd_level\":980,\"humidity\":82,\"temp_kf\":0},\"weather\":[{\"id\":803,\"main\":\"Clouds\",\"description\":\"broken clouds\",\"icon\":\"04n\"}],\"clouds\":{\"all\":77},\"wind\":{\"speed\":0.31,\"deg\":308,\"gust\":0.95},\"visibility\":10000,\"pop\":0.03,\"sys\":{\"pod\":\"n\"},\"dt_txt\":\"2021-11-23 03:00:00\"},{\"dt\":1637647200,\"main\":{\"temp\":276.4,\"feels_like\":276.4,\"temp_min\":276.4,\"temp_max\":276.4,\"pressure\":1026,\"sea_level\":1026,\"grnd_level\":982,\"humidity\":86,\"temp_kf\":0},\"weather\":[{\"id\":803,\"main\":\"Clouds\",\"description\":\"broken clouds\",\"icon\":\"04n\"}],\"clouds\":{\"all\":82},\"wind\":{\"speed\":0.42,\"deg\":241,\"gust\":1.13},\"visibility\":10000,\"pop\":0.01,\"sys\":{\"pod\":\"n\"},\"dt_txt\":\"2021-11-23 06:00:00\"},{\"dt\":1637658000,\"main\":{\"temp\":278.81,\"feels_like\":278.81,\"temp_min\":278.81,\"temp_max\":278.81,\"pressure\":1027,\"sea_level\":1027,\"grnd_level\":983,\"humidity\":72,\"temp_kf\":0},\"weather\":[{\"id\":802,\"main\":\"Clouds\",\"description\":\"scattered clouds\",\"icon\":\"03d\"}],\"clouds\":{\"all\":40},\"wind\":{\"speed\":0.57,\"deg\":196,\"gust\":1.29},\"visibility\":10000,\"pop\":0,\"sys\":{\"pod\":\"d\"},\"dt_txt\":\"2021-11-23 09:00:00\"},{\"dt\":1637668800,\"main\":{\"temp\":280.88,\"feels_like\":280.88,\"temp_min\":280.88,\"temp_max\":280.88,\"pressure\":1026,\"sea_level\":1026,\"grnd_level\":982,\"humidity\":59,\"temp_kf\":0},\"weather\":[{\"id\":802,\"main\":\"Clouds\",\"description\":\"scattered clouds\",\"icon\":\"03d\"}],\"clouds\":{\"all\":29},\"wind\":{\"speed\":1.11,\"deg\":128,\"gust\":0.94},\"visibility\":10000,\"pop\":0,\"sys\":{\"pod\":\"d\"},\"dt_txt\":\"2021-11-23 12:00:00\"},{\"dt\":1637679600,\"main\":{\"temp\":278.22,\"feels_like\":277.33,\"temp_min\":278.22,\"temp_max\":278.22,\"pressure\":1027,\"sea_level\":1027,\"grnd_level\":983,\"humidity\":75,\"temp_kf\":0},\"weather\":[{\"id\":801,\"main\":\"Clouds\",\"description\":\"few clouds\",\"icon\":\"02d\"}],\"clouds\":{\"all\":12},\"wind\":{\"speed\":1.39,\"deg\":160,\"gust\":1.97},\"visibility\":10000,\"pop\":0,\"sys\":{\"pod\":\"d\"},\"dt_txt\":\"2021-11-23 15:00:00\"},{\"dt\":1637690400,\"main\":{\"temp\":276.07,\"feels_like\":276.07,\"temp_min\":276.07,\"temp_max\":276.07,\"pressure\":1029,\"sea_level\":1029,\"grnd_level\":984,\"humidity\":84,\"temp_kf\":0},\"weather\":[{\"id\":801,\"main\":\"Clouds\",\"description\":\"few clouds\",\"icon\":\"02n\"}],\"clouds\":{\"all\":16},\"wind\":{\"speed\":0.41,\"deg\":150,\"gust\":0.72},\"visibility\":10000,\"pop\":0,\"sys\":{\"pod\":\"n\"},\"dt_txt\":\"2021-11-23 18:00:00\"},{\"dt\":1637701200,\"main\":{\"temp\":275.51,\"feels_like\":275.51,\"temp_min\":275.51,\"temp_max\":275.51,\"pressure\":1029,\"sea_level\":1029,\"grnd_level\":984,\"humidity\":78,\"temp_kf\":0},\"weather\":[{\"id\":803,\"main\":\"Clouds\",\"description\":\"broken clouds\",\"icon\":\"04n\"}],\"clouds\":{\"all\":61},\"wind\":{\"speed\":0.68,\"deg\":201,\"gust\":1.04},\"visibility\":10000,\"pop\":0,\"sys\":{\"pod\":\"n\"},\"dt_txt\":\"2021-11-23 21:00:00\"},{\"dt\":1637712000,\"main\":{\"temp\":274.54,\"feels_like\":274.54,\"temp_min\":274.54,\"temp_max\":274.54,\"pressure\":1029,\"sea_level\":1029,\"grnd_level\":984,\"humidity\":82,\"temp_kf\":0},\"weather\":[{\"id\":802,\"main\":\"Clouds\",\"description\":\"scattered clouds\",\"icon\":\"03n\"}],\"clouds\":{\"all\":43},\"wind\":{\"speed\":0.52,\"deg\":264,\"gust\":0.59},\"visibility\":10000,\"pop\":0,\"sys\":{\"pod\":\"n\"},\"dt_txt\":\"2021-11-24 00:00:00\"},{\"dt\":1637722800,\"main\":{\"temp\":273.68,\"feels_like\":273.68,\"temp_min\":273.68,\"temp_max\":273.68,\"pressure\":1028,\"sea_level\":1028,\"grnd_level\":983,\"humidity\":87,\"temp_kf\":0},\"weather\":[{\"id\":800,\"main\":\"Clear\",\"description\":\"clear sky\",\"icon\":\"01n\"}],\"clouds\":{\"all\":8},\"wind\":{\"speed\":0.48,\"deg\":297,\"gust\":0.7},\"visibility\":10000,\"pop\":0,\"sys\":{\"pod\":\"n\"},\"dt_txt\":\"2021-11-24 03:00:00\"},{\"dt\":1637733600,\"main\":{\"temp\":273.14,\"feels_like\":273.14,\"temp_min\":273.14,\"temp_max\":273.14,\"pressure\":1027,\"sea_level\":1027,\"grnd_level\":982,\"humidity\":88,\"temp_kf\":0},\"weather\":[{\"id\":800,\"main\":\"Clear\",\"description\":\"clear sky\",\"icon\":\"01n\"}],\"clouds\":{\"all\":6},\"wind\":{\"speed\":0.42,\"deg\":277,\"gust\":0.57},\"visibility\":10000,\"pop\":0,\"sys\":{\"pod\":\"n\"},\"dt_txt\":\"2021-11-24 06:00:00\"},{\"dt\":1637744400,\"main\":{\"temp\":276.78,\"feels_like\":276.78,\"temp_min\":276.78,\"temp_max\":276.78,\"pressure\":1027,\"sea_level\":1027,\"grnd_level\":982,\"humidity\":66,\"temp_kf\":0},\"weather\":[{\"id\":800,\"main\":\"Clear\",\"description\":\"clear sky\",\"icon\":\"01d\"}],\"clouds\":{\"all\":5},\"wind\":{\"speed\":0.67,\"deg\":162,\"gust\":0.81},\"visibility\":10000,\"pop\":0,\"sys\":{\"pod\":\"d\"},\"dt_txt\":\"2021-11-24 09:00:00\"},{\"dt\":1637755200,\"main\":{\"temp\":278.98,\"feels_like\":278.2,\"temp_min\":278.98,\"temp_max\":278.98,\"pressure\":1024,\"sea_level\":1024,\"grnd_level\":980,\"humidity\":46,\"temp_kf\":0},\"weather\":[{\"id\":800,\"main\":\"Clear\",\"description\":\"clear sky\",\"icon\":\"01d\"}],\"clouds\":{\"all\":3},\"wind\":{\"speed\":1.38,\"deg\":158,\"gust\":1.64},\"visibility\":10000,\"pop\":0,\"sys\":{\"pod\":\"d\"},\"dt_txt\":\"2021-11-24 12:00:00\"},{\"dt\":1637766000,\"main\":{\"temp\":276.24,\"feels_like\":276.24,\"temp_min\":276.24,\"temp_max\":276.24,\"pressure\":1023,\"sea_level\":1023,\"grnd_level\":978,\"humidity\":61,\"temp_kf\":0},\"weather\":[{\"id\":800,\"main\":\"Clear\",\"description\":\"clear sky\",\"icon\":\"01d\"}],\"clouds\":{\"all\":0},\"wind\":{\"speed\":1.28,\"deg\":134,\"gust\":1.99},\"visibility\":10000,\"pop\":0,\"sys\":{\"pod\":\"d\"},\"dt_txt\":\"2021-11-24 15:00:00\"},{\"dt\":1637776800,\"main\":{\"temp\":274.3,\"feels_like\":274.3,\"temp_min\":274.3,\"temp_max\":274.3,\"pressure\":1022,\"sea_level\":1022,\"grnd_level\":977,\"humidity\":74,\"temp_kf\":0},\"weather\":[{\"id\":800,\"main\":\"Clear\",\"description\":\"clear sky\",\"icon\":\"01n\"}],\"clouds\":{\"all\":0},\"wind\":{\"speed\":0.46,\"deg\":71,\"gust\":0.8},\"visibility\":10000,\"pop\":0,\"sys\":{\"pod\":\"n\"},\"dt_txt\":\"2021-11-24 18:00:00\"},{\"dt\":1637787600,\"main\":{\"temp\":273.55,\"feels_like\":273.55,\"temp_min\":273.55,\"temp_max\":273.55,\"pressure\":1021,\"sea_level\":1021,\"grnd_level\":976,\"humidity\":80,\"temp_kf\":0},\"weather\":[{\"id\":800,\"main\":\"Clear\",\"description\":\"clear sky\",\"icon\":\"01n\"}],\"clouds\":{\"all\":6},\"wind\":{\"speed\":0.48,\"deg\":75,\"gust\":0.76},\"visibility\":10000,\"pop\":0,\"sys\":{\"pod\":\"n\"},\"dt_txt\":\"2021-11-24 21:00:00\"},{\"dt\":1637798400,\"main\":{\"temp\":273.06,\"feels_like\":273.06,\"temp_min\":273.06,\"temp_max\":273.06,\"pressure\":1019,\"sea_level\":1019,\"grnd_level\":974,\"humidity\":85,\"temp_kf\":0},\"weather\":[{\"id\":800,\"main\":\"Clear\",\"description\":\"clear sky\",\"icon\":\"01n\"}],\"clouds\":{\"all\":9},\"wind\":{\"speed\":0.48,\"deg\":101,\"gust\":0.58},\"visibility\":10000,\"pop\":0,\"sys\":{\"pod\":\"n\"},\"dt_txt\":\"2021-11-25 00:00:00\"},{\"dt\":1637809200,\"main\":{\"temp\":272.73,\"feels_like\":272.73,\"temp_min\":272.73,\"temp_max\":272.73,\"pressure\":1018,\"sea_level\":1018,\"grnd_level\":973,\"humidity\":88,\"temp_kf\":0},\"weather\":[{\"id\":801,\"main\":\"Clouds\",\"description\":\"few clouds\",\"icon\":\"02n\"}],\"clouds\":{\"all\":17},\"wind\":{\"speed\":0.22,\"deg\":120,\"gust\":0.44},\"visibility\":10000,\"pop\":0,\"sys\":{\"pod\":\"n\"},\"dt_txt\":\"2021-11-25 03:00:00\"},{\"dt\":1637820000,\"main\":{\"temp\":272.54,\"feels_like\":272.54,\"temp_min\":272.54,\"temp_max\":272.54,\"pressure\":1016,\"sea_level\":1016,\"grnd_level\":971,\"humidity\":88,\"temp_kf\":0},\"weather\":[{\"id\":801,\"main\":\"Clouds\",\"description\":\"few clouds\",\"icon\":\"02n\"}],\"clouds\":{\"all\":16},\"wind\":{\"speed\":0.16,\"deg\":97,\"gust\":0.37},\"visibility\":10000,\"pop\":0,\"sys\":{\"pod\":\"n\"},\"dt_txt\":\"2021-11-25 06:00:00\"},{\"dt\":1637830800,\"main\":{\"temp\":276.21,\"feels_like\":276.21,\"temp_min\":276.21,\"temp_max\":276.21,\"pressure\":1014,\"sea_level\":1014,\"grnd_level\":970,\"humidity\":69,\"temp_kf\":0},\"weather\":[{\"id\":803,\"main\":\"Clouds\",\"description\":\"broken clouds\",\"icon\":\"04d\"}],\"clouds\":{\"all\":56},\"wind\":{\"speed\":0.59,\"deg\":171,\"gust\":0.77},\"visibility\":10000,\"pop\":0,\"sys\":{\"pod\":\"d\"},\"dt_txt\":\"2021-11-25 09:00:00\"},{\"dt\":1637841600,\"main\":{\"temp\":279.68,\"feels_like\":279.68,\"temp_min\":279.68,\"temp_max\":279.68,\"pressure\":1011,\"sea_level\":1011,\"grnd_level\":967,\"humidity\":63,\"temp_kf\":0},\"weather\":[{\"id\":802,\"main\":\"Clouds\",\"description\":\"scattered clouds\",\"icon\":\"03d\"}],\"clouds\":{\"all\":49},\"wind\":{\"speed\":1.33,\"deg\":178,\"gust\":2.58},\"visibility\":10000,\"pop\":0,\"sys\":{\"pod\":\"d\"},\"dt_txt\":\"2021-11-25 12:00:00\"},{\"dt\":1637852400,\"main\":{\"temp\":277.29,\"feels_like\":277.29,\"temp_min\":277.29,\"temp_max\":277.29,\"pressure\":1009,\"sea_level\":1009,\"grnd_level\":965,\"humidity\":79,\"temp_kf\":0},\"weather\":[{\"id\":801,\"main\":\"Clouds\",\"description\":\"few clouds\",\"icon\":\"02d\"}],\"clouds\":{\"all\":23},\"wind\":{\"speed\":0.39,\"deg\":30,\"gust\":0.69},\"visibility\":10000,\"pop\":0,\"sys\":{\"pod\":\"d\"},\"dt_txt\":\"2021-11-25 15:00:00\"},{\"dt\":1637863200,\"main\":{\"temp\":276.8,\"feels_like\":276.8,\"temp_min\":276.8,\"temp_max\":276.8,\"pressure\":1008,\"sea_level\":1008,\"grnd_level\":964,\"humidity\":84,\"temp_kf\":0},\"weather\":[{\"id\":803,\"main\":\"Clouds\",\"description\":\"broken clouds\",\"icon\":\"04n\"}],\"clouds\":{\"all\":59},\"wind\":{\"speed\":0.95,\"deg\":354,\"gust\":1},\"visibility\":10000,\"pop\":0.01,\"sys\":{\"pod\":\"n\"},\"dt_txt\":\"2021-11-25 18:00:00\"},{\"dt\":1637874000,\"main\":{\"temp\":277.19,\"feels_like\":277.19,\"temp_min\":277.19,\"temp_max\":277.19,\"pressure\":1006,\"sea_level\":1006,\"grnd_level\":962,\"humidity\":87,\"temp_kf\":0},\"weather\":[{\"id\":500,\"main\":\"Rain\",\"description\":\"light rain\",\"icon\":\"10n\"}],\"clouds\":{\"all\":100},\"wind\":{\"speed\":1.06,\"deg\":9,\"gust\":1.13},\"visibility\":10000,\"pop\":0.35,\"rain\":{\"3h\":0.15},\"sys\":{\"pod\":\"n\"},\"dt_txt\":\"2021-11-25 21:00:00\"},{\"dt\":1637884800,\"main\":{\"temp\":277.44,\"feels_like\":277.44,\"temp_min\":277.44,\"temp_max\":277.44,\"pressure\":1004,\"sea_level\":1004,\"grnd_level\":960,\"humidity\":97,\"temp_kf\":0},\"weather\":[{\"id\":501,\"main\":\"Rain\",\"description\":\"moderate rain\",\"icon\":\"10n\"}],\"clouds\":{\"all\":100},\"wind\":{\"speed\":0.65,\"deg\":56,\"gust\":1},\"visibility\":7635,\"pop\":0.85,\"rain\":{\"3h\":3.59},\"sys\":{\"pod\":\"n\"},\"dt_txt\":\"2021-11-26 00:00:00\"},{\"dt\":1637895600,\"main\":{\"temp\":278.03,\"feels_like\":278.03,\"temp_min\":278.03,\"temp_max\":278.03,\"pressure\":1000,\"sea_level\":1000,\"grnd_level\":957,\"humidity\":96,\"temp_kf\":0},\"weather\":[{\"id\":500,\"main\":\"Rain\",\"description\":\"light rain\",\"icon\":\"10n\"}],\"clouds\":{\"all\":100},\"wind\":{\"speed\":0.55,\"deg\":151,\"gust\":1.42},\"visibility\":10000,\"pop\":1,\"rain\":{\"3h\":1.18},\"sys\":{\"pod\":\"n\"},\"dt_txt\":\"2021-11-26 03:00:00\"},{\"dt\":1637906400,\"main\":{\"temp\":277.7,\"feels_like\":277.7,\"temp_min\":277.7,\"temp_max\":277.7,\"pressure\":999,\"sea_level\":999,\"grnd_level\":956,\"humidity\":98,\"temp_kf\":0},\"weather\":[{\"id\":500,\"main\":\"Rain\",\"description\":\"light rain\",\"icon\":\"10n\"}],\"clouds\":{\"all\":100},\"wind\":{\"speed\":0.25,\"deg\":240,\"gust\":0.35},\"visibility\":10000,\"pop\":0.95,\"rain\":{\"3h\":0.23},\"sys\":{\"pod\":\"n\"},\"dt_txt\":\"2021-11-26 06:00:00\"},{\"dt\":1637917200,\"main\":{\"temp\":278.9,\"feels_like\":278.9,\"temp_min\":278.9,\"temp_max\":278.9,\"pressure\":999,\"sea_level\":999,\"grnd_level\":956,\"humidity\":93,\"temp_kf\":0},\"weather\":[{\"id\":804,\"main\":\"Clouds\",\"description\":\"overcast clouds\",\"icon\":\"04d\"}],\"clouds\":{\"all\":98},\"wind\":{\"speed\":0.46,\"deg\":275,\"gust\":0.94},\"visibility\":10000,\"pop\":0.14,\"sys\":{\"pod\":\"d\"},\"dt_txt\":\"2021-11-26 09:00:00\"},{\"dt\":1637928000,\"main\":{\"temp\":281.15,\"feels_like\":281.15,\"temp_min\":281.15,\"temp_max\":281.15,\"pressure\":999,\"sea_level\":999,\"grnd_level\":956,\"humidity\":83,\"temp_kf\":0},\"weather\":[{\"id\":804,\"main\":\"Clouds\",\"description\":\"overcast clouds\",\"icon\":\"04d\"}],\"clouds\":{\"all\":93},\"wind\":{\"speed\":0.15,\"deg\":213,\"gust\":1.19},\"visibility\":10000,\"pop\":0.12,\"sys\":{\"pod\":\"d\"},\"dt_txt\":\"2021-11-26 12:00:00\"},{\"dt\":1637938800,\"main\":{\"temp\":279.75,\"feels_like\":279.75,\"temp_min\":279.75,\"temp_max\":279.75,\"pressure\":999,\"sea_level\":999,\"grnd_level\":956,\"humidity\":91,\"temp_kf\":0},\"weather\":[{\"id\":804,\"main\":\"Clouds\",\"description\":\"overcast clouds\",\"icon\":\"04d\"}],\"clouds\":{\"all\":100},\"wind\":{\"speed\":0.99,\"deg\":36,\"gust\":1},\"visibility\":10000,\"pop\":0,\"sys\":{\"pod\":\"d\"},\"dt_txt\":\"2021-11-26 15:00:00\"},{\"dt\":1637949600,\"main\":{\"temp\":279.1,\"feels_like\":278.07,\"temp_min\":279.1,\"temp_max\":279.1,\"pressure\":1000,\"sea_level\":1000,\"grnd_level\":957,\"humidity\":95,\"temp_kf\":0},\"weather\":[{\"id\":804,\"main\":\"Clouds\",\"description\":\"overcast clouds\",\"icon\":\"04n\"}],\"clouds\":{\"all\":100},\"wind\":{\"speed\":1.59,\"deg\":80,\"gust\":3.25},\"visibility\":10000,\"pop\":0,\"sys\":{\"pod\":\"n\"},\"dt_txt\":\"2021-11-26 18:00:00\"},{\"dt\":1637960400,\"main\":{\"temp\":278.01,\"feels_like\":277.05,\"temp_min\":278.01,\"temp_max\":278.01,\"pressure\":1001,\"sea_level\":1001,\"grnd_level\":958,\"humidity\":95,\"temp_kf\":0},\"weather\":[{\"id\":500,\"main\":\"Rain\",\"description\":\"light rain\",\"icon\":\"10n\"}],\"clouds\":{\"all\":100},\"wind\":{\"speed\":1.42,\"deg\":82,\"gust\":2.78},\"visibility\":10000,\"pop\":0.35,\"rain\":{\"3h\":0.14},\"sys\":{\"pod\":\"n\"},\"dt_txt\":\"2021-11-26 21:00:00\"}],\"city\":{\"id\":2778067,\"name\":\"Graz\",\"coord\":{\"lat\":47.0667,\"lon\":15.45},\"country\":\"AT\",\"population\":222326,\"timezone\":3600,\"sunrise\":1637475029,\"sunset\":1637507882}}\n"
     ]
    }
   ],
   "source": [
    "URL = \" http://api.openweathermap.org/data/2.5/forecast?q=Graz&appid=\" + API_Key\n",
    "response = rq.request(\"GET\", URL)\n",
    "print(response.text)"
   ]
  },
  {
   "cell_type": "code",
   "execution_count": 31,
   "metadata": {},
   "outputs": [
    {
     "data": {
      "text/html": [
       "<div>\n",
       "<style scoped>\n",
       "    .dataframe tbody tr th:only-of-type {\n",
       "        vertical-align: middle;\n",
       "    }\n",
       "\n",
       "    .dataframe tbody tr th {\n",
       "        vertical-align: top;\n",
       "    }\n",
       "\n",
       "    .dataframe thead th {\n",
       "        text-align: right;\n",
       "    }\n",
       "</style>\n",
       "<table border=\"1\" class=\"dataframe\">\n",
       "  <thead>\n",
       "    <tr style=\"text-align: right;\">\n",
       "      <th></th>\n",
       "      <th>0</th>\n",
       "    </tr>\n",
       "  </thead>\n",
       "  <tbody>\n",
       "    <tr>\n",
       "      <th>0</th>\n",
       "      <td>{'id': 804, 'main': 'Clouds', 'description': '...</td>\n",
       "    </tr>\n",
       "    <tr>\n",
       "      <th>1</th>\n",
       "      <td>{'id': 804, 'main': 'Clouds', 'description': '...</td>\n",
       "    </tr>\n",
       "    <tr>\n",
       "      <th>2</th>\n",
       "      <td>{'id': 804, 'main': 'Clouds', 'description': '...</td>\n",
       "    </tr>\n",
       "    <tr>\n",
       "      <th>3</th>\n",
       "      <td>{'id': 804, 'main': 'Clouds', 'description': '...</td>\n",
       "    </tr>\n",
       "    <tr>\n",
       "      <th>4</th>\n",
       "      <td>{'id': 804, 'main': 'Clouds', 'description': '...</td>\n",
       "    </tr>\n",
       "    <tr>\n",
       "      <th>5</th>\n",
       "      <td>{'id': 804, 'main': 'Clouds', 'description': '...</td>\n",
       "    </tr>\n",
       "    <tr>\n",
       "      <th>6</th>\n",
       "      <td>{'id': 804, 'main': 'Clouds', 'description': '...</td>\n",
       "    </tr>\n",
       "    <tr>\n",
       "      <th>7</th>\n",
       "      <td>{'id': 804, 'main': 'Clouds', 'description': '...</td>\n",
       "    </tr>\n",
       "    <tr>\n",
       "      <th>8</th>\n",
       "      <td>{'id': 804, 'main': 'Clouds', 'description': '...</td>\n",
       "    </tr>\n",
       "    <tr>\n",
       "      <th>9</th>\n",
       "      <td>{'id': 803, 'main': 'Clouds', 'description': '...</td>\n",
       "    </tr>\n",
       "    <tr>\n",
       "      <th>10</th>\n",
       "      <td>{'id': 803, 'main': 'Clouds', 'description': '...</td>\n",
       "    </tr>\n",
       "    <tr>\n",
       "      <th>11</th>\n",
       "      <td>{'id': 802, 'main': 'Clouds', 'description': '...</td>\n",
       "    </tr>\n",
       "    <tr>\n",
       "      <th>12</th>\n",
       "      <td>{'id': 802, 'main': 'Clouds', 'description': '...</td>\n",
       "    </tr>\n",
       "    <tr>\n",
       "      <th>13</th>\n",
       "      <td>{'id': 801, 'main': 'Clouds', 'description': '...</td>\n",
       "    </tr>\n",
       "    <tr>\n",
       "      <th>14</th>\n",
       "      <td>{'id': 801, 'main': 'Clouds', 'description': '...</td>\n",
       "    </tr>\n",
       "    <tr>\n",
       "      <th>15</th>\n",
       "      <td>{'id': 803, 'main': 'Clouds', 'description': '...</td>\n",
       "    </tr>\n",
       "    <tr>\n",
       "      <th>16</th>\n",
       "      <td>{'id': 802, 'main': 'Clouds', 'description': '...</td>\n",
       "    </tr>\n",
       "    <tr>\n",
       "      <th>17</th>\n",
       "      <td>{'id': 800, 'main': 'Clear', 'description': 'c...</td>\n",
       "    </tr>\n",
       "    <tr>\n",
       "      <th>18</th>\n",
       "      <td>{'id': 800, 'main': 'Clear', 'description': 'c...</td>\n",
       "    </tr>\n",
       "    <tr>\n",
       "      <th>19</th>\n",
       "      <td>{'id': 800, 'main': 'Clear', 'description': 'c...</td>\n",
       "    </tr>\n",
       "    <tr>\n",
       "      <th>20</th>\n",
       "      <td>{'id': 800, 'main': 'Clear', 'description': 'c...</td>\n",
       "    </tr>\n",
       "    <tr>\n",
       "      <th>21</th>\n",
       "      <td>{'id': 800, 'main': 'Clear', 'description': 'c...</td>\n",
       "    </tr>\n",
       "    <tr>\n",
       "      <th>22</th>\n",
       "      <td>{'id': 800, 'main': 'Clear', 'description': 'c...</td>\n",
       "    </tr>\n",
       "    <tr>\n",
       "      <th>23</th>\n",
       "      <td>{'id': 800, 'main': 'Clear', 'description': 'c...</td>\n",
       "    </tr>\n",
       "    <tr>\n",
       "      <th>24</th>\n",
       "      <td>{'id': 800, 'main': 'Clear', 'description': 'c...</td>\n",
       "    </tr>\n",
       "    <tr>\n",
       "      <th>25</th>\n",
       "      <td>{'id': 801, 'main': 'Clouds', 'description': '...</td>\n",
       "    </tr>\n",
       "    <tr>\n",
       "      <th>26</th>\n",
       "      <td>{'id': 801, 'main': 'Clouds', 'description': '...</td>\n",
       "    </tr>\n",
       "    <tr>\n",
       "      <th>27</th>\n",
       "      <td>{'id': 803, 'main': 'Clouds', 'description': '...</td>\n",
       "    </tr>\n",
       "    <tr>\n",
       "      <th>28</th>\n",
       "      <td>{'id': 802, 'main': 'Clouds', 'description': '...</td>\n",
       "    </tr>\n",
       "    <tr>\n",
       "      <th>29</th>\n",
       "      <td>{'id': 801, 'main': 'Clouds', 'description': '...</td>\n",
       "    </tr>\n",
       "    <tr>\n",
       "      <th>30</th>\n",
       "      <td>{'id': 803, 'main': 'Clouds', 'description': '...</td>\n",
       "    </tr>\n",
       "    <tr>\n",
       "      <th>31</th>\n",
       "      <td>{'id': 500, 'main': 'Rain', 'description': 'li...</td>\n",
       "    </tr>\n",
       "    <tr>\n",
       "      <th>32</th>\n",
       "      <td>{'id': 501, 'main': 'Rain', 'description': 'mo...</td>\n",
       "    </tr>\n",
       "    <tr>\n",
       "      <th>33</th>\n",
       "      <td>{'id': 500, 'main': 'Rain', 'description': 'li...</td>\n",
       "    </tr>\n",
       "    <tr>\n",
       "      <th>34</th>\n",
       "      <td>{'id': 500, 'main': 'Rain', 'description': 'li...</td>\n",
       "    </tr>\n",
       "    <tr>\n",
       "      <th>35</th>\n",
       "      <td>{'id': 804, 'main': 'Clouds', 'description': '...</td>\n",
       "    </tr>\n",
       "    <tr>\n",
       "      <th>36</th>\n",
       "      <td>{'id': 804, 'main': 'Clouds', 'description': '...</td>\n",
       "    </tr>\n",
       "    <tr>\n",
       "      <th>37</th>\n",
       "      <td>{'id': 804, 'main': 'Clouds', 'description': '...</td>\n",
       "    </tr>\n",
       "    <tr>\n",
       "      <th>38</th>\n",
       "      <td>{'id': 804, 'main': 'Clouds', 'description': '...</td>\n",
       "    </tr>\n",
       "    <tr>\n",
       "      <th>39</th>\n",
       "      <td>{'id': 500, 'main': 'Rain', 'description': 'li...</td>\n",
       "    </tr>\n",
       "  </tbody>\n",
       "</table>\n",
       "</div>"
      ],
      "text/plain": [
       "                                                    0\n",
       "0   {'id': 804, 'main': 'Clouds', 'description': '...\n",
       "1   {'id': 804, 'main': 'Clouds', 'description': '...\n",
       "2   {'id': 804, 'main': 'Clouds', 'description': '...\n",
       "3   {'id': 804, 'main': 'Clouds', 'description': '...\n",
       "4   {'id': 804, 'main': 'Clouds', 'description': '...\n",
       "5   {'id': 804, 'main': 'Clouds', 'description': '...\n",
       "6   {'id': 804, 'main': 'Clouds', 'description': '...\n",
       "7   {'id': 804, 'main': 'Clouds', 'description': '...\n",
       "8   {'id': 804, 'main': 'Clouds', 'description': '...\n",
       "9   {'id': 803, 'main': 'Clouds', 'description': '...\n",
       "10  {'id': 803, 'main': 'Clouds', 'description': '...\n",
       "11  {'id': 802, 'main': 'Clouds', 'description': '...\n",
       "12  {'id': 802, 'main': 'Clouds', 'description': '...\n",
       "13  {'id': 801, 'main': 'Clouds', 'description': '...\n",
       "14  {'id': 801, 'main': 'Clouds', 'description': '...\n",
       "15  {'id': 803, 'main': 'Clouds', 'description': '...\n",
       "16  {'id': 802, 'main': 'Clouds', 'description': '...\n",
       "17  {'id': 800, 'main': 'Clear', 'description': 'c...\n",
       "18  {'id': 800, 'main': 'Clear', 'description': 'c...\n",
       "19  {'id': 800, 'main': 'Clear', 'description': 'c...\n",
       "20  {'id': 800, 'main': 'Clear', 'description': 'c...\n",
       "21  {'id': 800, 'main': 'Clear', 'description': 'c...\n",
       "22  {'id': 800, 'main': 'Clear', 'description': 'c...\n",
       "23  {'id': 800, 'main': 'Clear', 'description': 'c...\n",
       "24  {'id': 800, 'main': 'Clear', 'description': 'c...\n",
       "25  {'id': 801, 'main': 'Clouds', 'description': '...\n",
       "26  {'id': 801, 'main': 'Clouds', 'description': '...\n",
       "27  {'id': 803, 'main': 'Clouds', 'description': '...\n",
       "28  {'id': 802, 'main': 'Clouds', 'description': '...\n",
       "29  {'id': 801, 'main': 'Clouds', 'description': '...\n",
       "30  {'id': 803, 'main': 'Clouds', 'description': '...\n",
       "31  {'id': 500, 'main': 'Rain', 'description': 'li...\n",
       "32  {'id': 501, 'main': 'Rain', 'description': 'mo...\n",
       "33  {'id': 500, 'main': 'Rain', 'description': 'li...\n",
       "34  {'id': 500, 'main': 'Rain', 'description': 'li...\n",
       "35  {'id': 804, 'main': 'Clouds', 'description': '...\n",
       "36  {'id': 804, 'main': 'Clouds', 'description': '...\n",
       "37  {'id': 804, 'main': 'Clouds', 'description': '...\n",
       "38  {'id': 804, 'main': 'Clouds', 'description': '...\n",
       "39  {'id': 500, 'main': 'Rain', 'description': 'li..."
      ]
     },
     "execution_count": 31,
     "metadata": {},
     "output_type": "execute_result"
    }
   ],
   "source": [
    "import jmespath\n",
    "expression = jmespath.compile('list[].weather')\n",
    "res = expression.search(response.json())\n",
    "\n",
    "pd.DataFrame(res)"
   ]
  },
  {
   "cell_type": "code",
   "execution_count": null,
   "metadata": {},
   "outputs": [],
   "source": []
  }
 ],
 "metadata": {
  "kernelspec": {
   "display_name": "BigData",
   "language": "python",
   "name": "bigdata"
  },
  "language_info": {
   "codemirror_mode": {
    "name": "ipython",
    "version": 3
   },
   "file_extension": ".py",
   "mimetype": "text/x-python",
   "name": "python",
   "nbconvert_exporter": "python",
   "pygments_lexer": "ipython3",
   "version": "3.8.10"
  }
 },
 "nbformat": 4,
 "nbformat_minor": 4
}
