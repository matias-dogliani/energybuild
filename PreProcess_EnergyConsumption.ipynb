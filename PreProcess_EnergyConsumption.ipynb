{
 "cells": [
  {
   "cell_type": "markdown",
   "metadata": {},
   "source": [
    "# Data pre process"
   ]
  },
  {
   "cell_type": "code",
   "execution_count": 1,
   "metadata": {},
   "outputs": [],
   "source": [
    "import pandas as pd\n",
    "import numpy as np\n",
    "import matplotlib.pyplot as plt\n",
    "DataFrame = pd.read_excel('./DataSets/Building_energy.xlsx', header=1)"
   ]
  },
  {
   "cell_type": "markdown",
   "metadata": {},
   "source": [
    "### Basic Info of the data frame "
   ]
  },
  {
   "cell_type": "code",
   "execution_count": 2,
   "metadata": {},
   "outputs": [
    {
     "data": {
      "text/html": [
       "<div>\n",
       "<style scoped>\n",
       "    .dataframe tbody tr th:only-of-type {\n",
       "        vertical-align: middle;\n",
       "    }\n",
       "\n",
       "    .dataframe tbody tr th {\n",
       "        vertical-align: top;\n",
       "    }\n",
       "\n",
       "    .dataframe thead th {\n",
       "        text-align: right;\n",
       "    }\n",
       "</style>\n",
       "<table border=\"1\" class=\"dataframe\">\n",
       "  <thead>\n",
       "    <tr style=\"text-align: right;\">\n",
       "      <th></th>\n",
       "      <th>Time</th>\n",
       "      <th>reading</th>\n",
       "    </tr>\n",
       "  </thead>\n",
       "  <tbody>\n",
       "    <tr>\n",
       "      <th>0</th>\n",
       "      <td>2021-01-27 11:00:00</td>\n",
       "      <td>8.03 kWh</td>\n",
       "    </tr>\n",
       "    <tr>\n",
       "      <th>1</th>\n",
       "      <td>2021-01-27 12:00:00</td>\n",
       "      <td>6.85 kWh</td>\n",
       "    </tr>\n",
       "    <tr>\n",
       "      <th>2</th>\n",
       "      <td>2021-01-27 13:00:00</td>\n",
       "      <td>8.86 kWh</td>\n",
       "    </tr>\n",
       "    <tr>\n",
       "      <th>3</th>\n",
       "      <td>2021-01-27 14:00:00</td>\n",
       "      <td>7.37 kWh</td>\n",
       "    </tr>\n",
       "    <tr>\n",
       "      <th>4</th>\n",
       "      <td>2021-01-27 15:00:00</td>\n",
       "      <td>7.67 kWh</td>\n",
       "    </tr>\n",
       "  </tbody>\n",
       "</table>\n",
       "</div>"
      ],
      "text/plain": [
       "                  Time   reading\n",
       "0  2021-01-27 11:00:00  8.03 kWh\n",
       "1  2021-01-27 12:00:00  6.85 kWh\n",
       "2  2021-01-27 13:00:00  8.86 kWh\n",
       "3  2021-01-27 14:00:00  7.37 kWh\n",
       "4  2021-01-27 15:00:00  7.67 kWh"
      ]
     },
     "execution_count": 2,
     "metadata": {},
     "output_type": "execute_result"
    }
   ],
   "source": [
    "DataFrame.head()"
   ]
  },
  {
   "cell_type": "code",
   "execution_count": 3,
   "metadata": {},
   "outputs": [
    {
     "name": "stdout",
     "output_type": "stream",
     "text": [
      "<class 'pandas.core.frame.DataFrame'>\n",
      "RangeIndex: 6726 entries, 0 to 6725\n",
      "Data columns (total 2 columns):\n",
      " #   Column   Non-Null Count  Dtype \n",
      "---  ------   --------------  ----- \n",
      " 0   Time     6726 non-null   object\n",
      " 1   reading  6726 non-null   object\n",
      "dtypes: object(2)\n",
      "memory usage: 105.2+ KB\n"
     ]
    }
   ],
   "source": [
    "DataFrame.info(verbose=True)"
   ]
  },
  {
   "cell_type": "code",
   "execution_count": 4,
   "metadata": {},
   "outputs": [
    {
     "data": {
      "text/plain": [
       "Index(['Time', 'reading'], dtype='object')"
      ]
     },
     "execution_count": 4,
     "metadata": {},
     "output_type": "execute_result"
    }
   ],
   "source": [
    "DataFrame.columns "
   ]
  },
  {
   "cell_type": "code",
   "execution_count": 5,
   "metadata": {},
   "outputs": [
    {
     "name": "stdout",
     "output_type": "stream",
     "text": [
      "0       2021-01-27 11:00:00\n",
      "1       2021-01-27 12:00:00\n",
      "2       2021-01-27 13:00:00\n",
      "3       2021-01-27 14:00:00\n",
      "4       2021-01-27 15:00:00\n",
      "               ...         \n",
      "6721    2021-11-03 12:00:00\n",
      "6722    2021-11-03 13:00:00\n",
      "6723    2021-11-03 14:00:00\n",
      "6724    2021-11-03 15:00:00\n",
      "6725    2021-11-03 16:00:00\n",
      "Name: Time, Length: 6726, dtype: object\n"
     ]
    }
   ],
   "source": [
    "print(DataFrame['Time'])"
   ]
  },
  {
   "cell_type": "code",
   "execution_count": 6,
   "metadata": {},
   "outputs": [
    {
     "data": {
      "text/plain": [
       "str"
      ]
     },
     "execution_count": 6,
     "metadata": {},
     "output_type": "execute_result"
    }
   ],
   "source": [
    "type(DataFrame['Time'][0])"
   ]
  },
  {
   "cell_type": "markdown",
   "metadata": {},
   "source": [
    "### Changing the date info into a *datetime* type objetc\n",
    "### Lo elimino\n",
    "In order to be able to access to the values separately (we'll needed for the inputs of the model)"
   ]
  },
  {
   "cell_type": "code",
   "execution_count": 7,
   "metadata": {},
   "outputs": [],
   "source": [
    "from datetime import datetime as dt \n",
    "\n",
    "dates=[]\n",
    "    \n",
    "for str_date in DataFrame['Time']: \n",
    "    #print(str_date)\n",
    "    dt = dt.strptime(str_date, \"%Y-%m-%d %H:%M:%S\")\n",
    "    dates.append(dt)\n"
   ]
  },
  {
   "cell_type": "markdown",
   "metadata": {},
   "source": [
    "* Delete Time column and insert the new Time column"
   ]
  },
  {
   "cell_type": "code",
   "execution_count": 8,
   "metadata": {},
   "outputs": [
    {
     "data": {
      "text/html": [
       "<div>\n",
       "<style scoped>\n",
       "    .dataframe tbody tr th:only-of-type {\n",
       "        vertical-align: middle;\n",
       "    }\n",
       "\n",
       "    .dataframe tbody tr th {\n",
       "        vertical-align: top;\n",
       "    }\n",
       "\n",
       "    .dataframe thead th {\n",
       "        text-align: right;\n",
       "    }\n",
       "</style>\n",
       "<table border=\"1\" class=\"dataframe\">\n",
       "  <thead>\n",
       "    <tr style=\"text-align: right;\">\n",
       "      <th></th>\n",
       "      <th>Time</th>\n",
       "      <th>reading</th>\n",
       "    </tr>\n",
       "  </thead>\n",
       "  <tbody>\n",
       "    <tr>\n",
       "      <th>0</th>\n",
       "      <td>2021-01-27 11:00:00</td>\n",
       "      <td>8.03 kWh</td>\n",
       "    </tr>\n",
       "    <tr>\n",
       "      <th>1</th>\n",
       "      <td>2021-01-27 12:00:00</td>\n",
       "      <td>6.85 kWh</td>\n",
       "    </tr>\n",
       "    <tr>\n",
       "      <th>2</th>\n",
       "      <td>2021-01-27 13:00:00</td>\n",
       "      <td>8.86 kWh</td>\n",
       "    </tr>\n",
       "    <tr>\n",
       "      <th>3</th>\n",
       "      <td>2021-01-27 14:00:00</td>\n",
       "      <td>7.37 kWh</td>\n",
       "    </tr>\n",
       "    <tr>\n",
       "      <th>4</th>\n",
       "      <td>2021-01-27 15:00:00</td>\n",
       "      <td>7.67 kWh</td>\n",
       "    </tr>\n",
       "  </tbody>\n",
       "</table>\n",
       "</div>"
      ],
      "text/plain": [
       "                 Time   reading\n",
       "0 2021-01-27 11:00:00  8.03 kWh\n",
       "1 2021-01-27 12:00:00  6.85 kWh\n",
       "2 2021-01-27 13:00:00  8.86 kWh\n",
       "3 2021-01-27 14:00:00  7.37 kWh\n",
       "4 2021-01-27 15:00:00  7.67 kWh"
      ]
     },
     "execution_count": 8,
     "metadata": {},
     "output_type": "execute_result"
    }
   ],
   "source": [
    "DataFrame.drop('Time', inplace = True, axis=1) \n",
    "\n",
    "#Insert the newone\n",
    "DataFrame.insert(0, 'Time',dates)\n",
    "\n",
    "#Check if it worked \n",
    "DataFrame.head()"
   ]
  },
  {
   "cell_type": "markdown",
   "metadata": {},
   "source": [
    "### Removing Units from Reading column\n",
    "\n",
    "For the input we need a valid integer value, without any string"
   ]
  },
  {
   "cell_type": "code",
   "execution_count": 9,
   "metadata": {},
   "outputs": [
    {
     "data": {
      "text/html": [
       "<div>\n",
       "<style scoped>\n",
       "    .dataframe tbody tr th:only-of-type {\n",
       "        vertical-align: middle;\n",
       "    }\n",
       "\n",
       "    .dataframe tbody tr th {\n",
       "        vertical-align: top;\n",
       "    }\n",
       "\n",
       "    .dataframe thead th {\n",
       "        text-align: right;\n",
       "    }\n",
       "</style>\n",
       "<table border=\"1\" class=\"dataframe\">\n",
       "  <thead>\n",
       "    <tr style=\"text-align: right;\">\n",
       "      <th></th>\n",
       "      <th>Time</th>\n",
       "      <th>Energy Usage</th>\n",
       "    </tr>\n",
       "  </thead>\n",
       "  <tbody>\n",
       "    <tr>\n",
       "      <th>0</th>\n",
       "      <td>2021-01-27 11:00:00</td>\n",
       "      <td>8.03</td>\n",
       "    </tr>\n",
       "    <tr>\n",
       "      <th>1</th>\n",
       "      <td>2021-01-27 12:00:00</td>\n",
       "      <td>6.85</td>\n",
       "    </tr>\n",
       "    <tr>\n",
       "      <th>2</th>\n",
       "      <td>2021-01-27 13:00:00</td>\n",
       "      <td>8.86</td>\n",
       "    </tr>\n",
       "    <tr>\n",
       "      <th>3</th>\n",
       "      <td>2021-01-27 14:00:00</td>\n",
       "      <td>7.37</td>\n",
       "    </tr>\n",
       "    <tr>\n",
       "      <th>4</th>\n",
       "      <td>2021-01-27 15:00:00</td>\n",
       "      <td>7.67</td>\n",
       "    </tr>\n",
       "  </tbody>\n",
       "</table>\n",
       "</div>"
      ],
      "text/plain": [
       "                 Time  Energy Usage\n",
       "0 2021-01-27 11:00:00          8.03\n",
       "1 2021-01-27 12:00:00          6.85\n",
       "2 2021-01-27 13:00:00          8.86\n",
       "3 2021-01-27 14:00:00          7.37\n",
       "4 2021-01-27 15:00:00          7.67"
      ]
     },
     "execution_count": 9,
     "metadata": {},
     "output_type": "execute_result"
    }
   ],
   "source": [
    "\n",
    "reading  = [float(s.replace(\" kWh\",'')) for s in DataFrame['reading']]\n",
    "#Insert the new values without the units\n",
    "DataFrame.insert(1, 'Energy Usage',reading)\n",
    "\n",
    "#Remove the old one\n",
    "DataFrame.drop('reading', inplace = True, axis=1) \n",
    "\n",
    "#check \n",
    "DataFrame.head()"
   ]
  },
  {
   "cell_type": "markdown",
   "metadata": {},
   "source": [
    "### Plots "
   ]
  },
  {
   "cell_type": "markdown",
   "metadata": {},
   "source": [
    "#### Plot Energy Usage"
   ]
  },
  {
   "cell_type": "code",
   "execution_count": 10,
   "metadata": {},
   "outputs": [
    {
     "data": {
      "image/png": "[encoded data removed]",
      "text/plain": [
       "<Figure size 432x288 with 1 Axes>"
      ]
     },
     "metadata": {
      "needs_background": "light"
     },
     "output_type": "display_data"
    }
   ],
   "source": [
    "plt.scatter(DataFrame.index,DataFrame['Energy Usage'])\n",
    "plt.xlabel('Hours - n sample')\n",
    "plt.ylabel(\"Energy Usage [kW]\")\n",
    "plt.grid() \n"
   ]
  },
  {
   "cell_type": "markdown",
   "metadata": {},
   "source": [
    "#### Energy Usage distribution"
   ]
  },
  {
   "cell_type": "code",
   "execution_count": 13,
   "metadata": {},
   "outputs": [
    {
     "data": {
      "text/plain": [
       "<Figure size 432x288 with 0 Axes>"
      ]
     },
     "metadata": {},
     "output_type": "display_data"
    },
    {
     "data": {
      "image/png": "[encoded data removed]",
      "text/plain": [
       "<Figure size 1224x360 with 1 Axes>"
      ]
     },
     "metadata": {
      "needs_background": "light"
     },
     "output_type": "display_data"
    }
   ],
   "source": [
    "plt.figure()\n",
    "plt.figure(figsize=(17, 5))\n",
    "plt.hist(DataFrame['Energy Usage'], bins=120) \n",
    "plt.xlabel(\"KwH\")\n",
    "plt.ylabel(\"Samples Count\")\n",
    "plt.grid('--')\n",
    "plt.xlim([-5,20])\n",
    "plt.show()"
   ]
  },
  {
   "cell_type": "markdown",
   "metadata": {},
   "source": [
    "* Zoom"
   ]
  },
  {
   "cell_type": "code",
   "execution_count": 14,
   "metadata": {},
   "outputs": [
    {
     "data": {
      "text/plain": [
       "<Figure size 432x288 with 0 Axes>"
      ]
     },
     "metadata": {},
     "output_type": "display_data"
    },
    {
     "data": {
      "image/png": "[encoded data removed]",
      "text/plain": [
       "<Figure size 1224x360 with 1 Axes>"
      ]
     },
     "metadata": {
      "needs_background": "light"
     },
     "output_type": "display_data"
    }
   ],
   "source": [
    "plt.figure()\n",
    "plt.figure(figsize=(17, 5))\n",
    "plt.hist(DataFrame['Energy Usage'], bins=120) \n",
    "\n",
    "plt.xlim([-5,20])\n",
    "plt.ylim([-20,200])\n",
    "plt.show()\n",
    "#looks like a Gaussian "
   ]
  },
  {
   "cell_type": "markdown",
   "metadata": {},
   "source": [
    "* Gaussian vs our *Energy Usage* distribution"
   ]
  },
  {
   "cell_type": "code",
   "execution_count": 15,
   "metadata": {},
   "outputs": [
    {
     "data": {
      "text/plain": [
       "<Figure size 432x288 with 0 Axes>"
      ]
     },
     "metadata": {},
     "output_type": "display_data"
    },
    {
     "data": {
      "image/png": "[encoded data removed]",
      "text/plain": [
       "<Figure size 1224x360 with 1 Axes>"
      ]
     },
     "metadata": {
      "needs_background": "light"
     },
     "output_type": "display_data"
    }
   ],
   "source": [
    "mu = np.mean(DataFrame['Energy Usage'])\n",
    "std = np.std(DataFrame['Energy Usage'])\n",
    "\n",
    "datos = np.random.normal(mu, std, 30000) #creando muestra de datos\n",
    "\n",
    "\n",
    "plt.figure()\n",
    "plt.figure(figsize=(17, 5))\n",
    "plt.hist(DataFrame['Energy Usage'], bins=120, label=\"Energy Usage Dist\")\n",
    "plt.hist(datos,bins=120,alpha=.2,color='gray',lw=.75,linestyle=':',label=\"Normal Gaussian Dist\")\n",
    "#plot the limits and de mean \n",
    "#plt.plot(mu,1500)\n",
    "#\n",
    "plt.xlabel(\"KwH\")\n",
    "plt.ylabel(\"Samples Count\")\n",
    "plt.legend()\n",
    "plt.xlim([-5,20])\n",
    "plt.show()\n",
    "\n"
   ]
  },
  {
   "cell_type": "markdown",
   "metadata": {},
   "source": [
    "### Finding the anomalies \n",
    "\n",
    "We've considered anomalies the data point outside of 4sigma of the normal gaussian distribution. \n",
    "More explanation ...\n",
    "\n",
    "\n",
    "we consider 0 (not a oulier) as anamolie\n",
    "\n",
    "* We create a function `find_anomalies` to detect the anomalies and return the value and the location of each of them on the data frame\n"
   ]
  },
  {
   "cell_type": "code",
   "execution_count": 16,
   "metadata": {},
   "outputs": [],
   "source": [
    "def find_anomalies(data):\n",
    "    #define a list to accumlate anomalies\n",
    "    anomalies = []\n",
    "    idx_anomalies = []\n",
    "    \n",
    "   \n",
    "    # Set upper and lower limit to 4 standard deviation\n",
    "    data_std = np.std(data)\n",
    "    data_mean = np.mean(data)\n",
    "    anomaly_cut_off = data_std * 4\n",
    "    lower_limit  = data_mean - anomaly_cut_off \n",
    "    upper_limit = data_mean + anomaly_cut_off\n",
    "\n",
    "    # Generate outliers\n",
    "    for idx,outlier in enumerate(data):\n",
    "        if outlier > upper_limit or outlier < lower_limit or outlier ==0: \n",
    "            anomalies.append(outlier)\n",
    "            idx_anomalies.append(idx)\n",
    "          \n",
    "        \n",
    "    return anomalies, idx_anomalies\n"
   ]
  },
  {
   "cell_type": "code",
   "execution_count": 17,
   "metadata": {},
   "outputs": [
    {
     "name": "stdout",
     "output_type": "stream",
     "text": [
      "[0.0, 14.7, 0.0, 0.0, 14.8, 0.0, 0.0, 0.0, 0.0, 0.0, 0.0, 0.0, 0.0, 0.0, 32.1, 14.7, -3.6, 0.0]\n",
      "[217, 218, 320, 1034, 1035, 1695, 3949, 3950, 3951, 3952, 3953, 3954, 3955, 3956, 3957, 5158, 5222, 6639]\n"
     ]
    }
   ],
   "source": [
    "anomalies, idx_anomalies = find_anomalies(DataFrame[\"Energy Usage\"])\n",
    "print(anomalies)\n",
    "print(idx_anomalies)"
   ]
  },
  {
   "cell_type": "markdown",
   "metadata": {},
   "source": [
    "### Replacing the anomalies\n",
    "\n",
    "as we have consecutives values considered anomalies, we can't do linear interpolation (check this) \n",
    "\n",
    "* In order to use the built-in function of pandas, we assign a NaN to every anomaly"
   ]
  },
  {
   "cell_type": "code",
   "execution_count": 18,
   "metadata": {},
   "outputs": [],
   "source": [
    "def replace_anomalies(data,idx_anomalies,col): \n",
    "    for index in idx_anomalies: \n",
    "        #DataFrame[\"Energy Usage\"][index] = DataFrame[\"Energy Usage\"][index-1] +  DataFrame[\"Energy Usage\"][index+1] / 2 \n",
    "        data[col][index] = np.nan\n",
    "        \n",
    "    return data"
   ]
  },
  {
   "cell_type": "code",
   "execution_count": 19,
   "metadata": {},
   "outputs": [
    {
     "name": "stderr",
     "output_type": "stream",
     "text": [
      "/tmp/ipykernel_652054/3520209725.py:4: SettingWithCopyWarning: \n",
      "A value is trying to be set on a copy of a slice from a DataFrame\n",
      "\n",
      "See the caveats in the documentation: https://pandas.pydata.org/pandas-docs/stable/user_guide/indexing.html#returning-a-view-versus-a-copy\n",
      "  data[col][index] = np.nan\n"
     ]
    }
   ],
   "source": [
    "DataFrame= replace_anomalies(DataFrame,idx_anomalies,'Energy Usage')"
   ]
  },
  {
   "cell_type": "code",
   "execution_count": 20,
   "metadata": {},
   "outputs": [
    {
     "data": {
      "text/plain": [
       "3945    3.26\n",
       "3946    3.58\n",
       "3947    3.80\n",
       "3948    3.88\n",
       "3949     NaN\n",
       "3950     NaN\n",
       "3951     NaN\n",
       "3952     NaN\n",
       "3953     NaN\n",
       "3954     NaN\n",
       "3955     NaN\n",
       "3956     NaN\n",
       "3957     NaN\n",
       "3958    3.19\n",
       "3959    3.20\n",
       "Name: Energy Usage, dtype: float64"
      ]
     },
     "execution_count": 20,
     "metadata": {},
     "output_type": "execute_result"
    }
   ],
   "source": [
    "DataFrame[\"Energy Usage\"][3945:3960]"
   ]
  },
  {
   "cell_type": "markdown",
   "metadata": {},
   "source": [
    "* Using the interpolate function"
   ]
  },
  {
   "cell_type": "code",
   "execution_count": 22,
   "metadata": {},
   "outputs": [],
   "source": [
    "DataFrame.interpolate(method='bfill',inplace=True) #or ffil "
   ]
  },
  {
   "cell_type": "code",
   "execution_count": 23,
   "metadata": {},
   "outputs": [
    {
     "data": {
      "text/plain": [
       "3945    3.26\n",
       "3946    3.58\n",
       "3947    3.80\n",
       "3948    3.88\n",
       "3949    3.19\n",
       "3950    3.19\n",
       "3951    3.19\n",
       "3952    3.19\n",
       "3953    3.19\n",
       "3954    3.19\n",
       "3955    3.19\n",
       "3956    3.19\n",
       "3957    3.19\n",
       "3958    3.19\n",
       "3959    3.20\n",
       "Name: Energy Usage, dtype: float64"
      ]
     },
     "execution_count": 23,
     "metadata": {},
     "output_type": "execute_result"
    }
   ],
   "source": [
    "DataFrame[\"Energy Usage\"][3945:3960]"
   ]
  },
  {
   "cell_type": "markdown",
   "metadata": {},
   "source": [
    "* Check if we have more anomalies left"
   ]
  },
  {
   "cell_type": "code",
   "execution_count": 24,
   "metadata": {
    "scrolled": true
   },
   "outputs": [
    {
     "data": {
      "image/png": "[encoded data removed]",
      "text/plain": [
       "<Figure size 432x288 with 1 Axes>"
      ]
     },
     "metadata": {
      "needs_background": "light"
     },
     "output_type": "display_data"
    }
   ],
   "source": [
    "plt.scatter(DataFrame.index,DataFrame['Energy Usage'])\n",
    "plt.xlabel('Hours - n sample')\n",
    "plt.ylabel(\"Energy Usage [kW]\")\n",
    "plt.grid() "
   ]
  },
  {
   "cell_type": "markdown",
   "metadata": {},
   "source": [
    "### Save the pre-processed dataSet of Building Energy consumption "
   ]
  },
  {
   "cell_type": "code",
   "execution_count": 25,
   "metadata": {},
   "outputs": [],
   "source": [
    "def SaveDataFrame(data, name): \n",
    "    data.to_csv(name,index=False)\n",
    "    return "
   ]
  },
  {
   "cell_type": "code",
   "execution_count": 26,
   "metadata": {},
   "outputs": [],
   "source": [
    "SaveDataFrame(DataFrame,\"./DataSets/EnergyConsumption.csv\")"
   ]
  }
 ],
 "metadata": {
  "kernelspec": {
   "display_name": "BigData",
   "language": "python",
   "name": "bigdata"
  },
  "language_info": {
   "codemirror_mode": {
    "name": "ipython",
    "version": 3
   },
   "file_extension": ".py",
   "mimetype": "text/x-python",
   "name": "python",
   "nbconvert_exporter": "python",
   "pygments_lexer": "ipython3",
   "version": "3.8.10"
  }
 },
 "nbformat": 4,
 "nbformat_minor": 5
}
