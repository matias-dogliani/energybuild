{
 "cells": [
  {
   "cell_type": "markdown",
   "metadata": {},
   "source": [
    "# Training and testing the model"
   ]
  },
  {
   "cell_type": "markdown",
   "metadata": {},
   "source": [
    "* Open all the datasets"
   ]
  },
  {
   "cell_type": "code",
   "execution_count": 1,
   "metadata": {},
   "outputs": [],
   "source": [
    "import pandas as pd\n",
    "import numpy as np\n",
    "import matplotlib.pyplot as plt\n",
    "from datetime import datetime as dt "
   ]
  },
  {
   "cell_type": "code",
   "execution_count": 2,
   "metadata": {},
   "outputs": [
    {
     "data": {
      "text/html": [
       "<div>\n",
       "<style scoped>\n",
       "    .dataframe tbody tr th:only-of-type {\n",
       "        vertical-align: middle;\n",
       "    }\n",
       "\n",
       "    .dataframe tbody tr th {\n",
       "        vertical-align: top;\n",
       "    }\n",
       "\n",
       "    .dataframe thead th {\n",
       "        text-align: right;\n",
       "    }\n",
       "</style>\n",
       "<table border=\"1\" class=\"dataframe\">\n",
       "  <thead>\n",
       "    <tr style=\"text-align: right;\">\n",
       "      <th></th>\n",
       "      <th>Time</th>\n",
       "      <th>Energy Usage</th>\n",
       "      <th>t</th>\n",
       "      <th>tp</th>\n",
       "      <th>rf</th>\n",
       "      <th>wr</th>\n",
       "      <th>wg</th>\n",
       "      <th>wsr</th>\n",
       "      <th>wsg</th>\n",
       "      <th>regen</th>\n",
       "      <th>ldred</th>\n",
       "      <th>ldstat</th>\n",
       "      <th>sonne</th>\n",
       "    </tr>\n",
       "  </thead>\n",
       "  <tbody>\n",
       "    <tr>\n",
       "      <th>0</th>\n",
       "      <td>2021-01-27 11:00:00</td>\n",
       "      <td>8.03</td>\n",
       "      <td>0.0</td>\n",
       "      <td>-3.8</td>\n",
       "      <td>75.0</td>\n",
       "      <td>130.0</td>\n",
       "      <td>3.6</td>\n",
       "      <td>NaN</td>\n",
       "      <td>7.6</td>\n",
       "      <td>0.0</td>\n",
       "      <td>1018.4</td>\n",
       "      <td>973.5</td>\n",
       "      <td>93.0</td>\n",
       "    </tr>\n",
       "    <tr>\n",
       "      <th>1</th>\n",
       "      <td>2021-01-27 12:00:00</td>\n",
       "      <td>6.85</td>\n",
       "      <td>1.9</td>\n",
       "      <td>-3.3</td>\n",
       "      <td>68.0</td>\n",
       "      <td>150.0</td>\n",
       "      <td>5.4</td>\n",
       "      <td>NaN</td>\n",
       "      <td>9.4</td>\n",
       "      <td>0.0</td>\n",
       "      <td>1017.7</td>\n",
       "      <td>973.1</td>\n",
       "      <td>66.0</td>\n",
       "    </tr>\n",
       "    <tr>\n",
       "      <th>2</th>\n",
       "      <td>2021-01-27 13:00:00</td>\n",
       "      <td>8.86</td>\n",
       "      <td>3.5</td>\n",
       "      <td>-2.8</td>\n",
       "      <td>63.0</td>\n",
       "      <td>190.0</td>\n",
       "      <td>7.6</td>\n",
       "      <td>NaN</td>\n",
       "      <td>11.2</td>\n",
       "      <td>0.0</td>\n",
       "      <td>1016.8</td>\n",
       "      <td>972.5</td>\n",
       "      <td>100.0</td>\n",
       "    </tr>\n",
       "    <tr>\n",
       "      <th>3</th>\n",
       "      <td>2021-01-27 14:00:00</td>\n",
       "      <td>7.37</td>\n",
       "      <td>4.4</td>\n",
       "      <td>-5.3</td>\n",
       "      <td>49.0</td>\n",
       "      <td>120.0</td>\n",
       "      <td>9.4</td>\n",
       "      <td>NaN</td>\n",
       "      <td>14.8</td>\n",
       "      <td>0.0</td>\n",
       "      <td>1016.3</td>\n",
       "      <td>972.1</td>\n",
       "      <td>99.0</td>\n",
       "    </tr>\n",
       "    <tr>\n",
       "      <th>4</th>\n",
       "      <td>2021-01-27 15:00:00</td>\n",
       "      <td>7.67</td>\n",
       "      <td>5.0</td>\n",
       "      <td>-7.6</td>\n",
       "      <td>40.0</td>\n",
       "      <td>150.0</td>\n",
       "      <td>5.4</td>\n",
       "      <td>NaN</td>\n",
       "      <td>11.2</td>\n",
       "      <td>0.0</td>\n",
       "      <td>1015.5</td>\n",
       "      <td>971.5</td>\n",
       "      <td>100.0</td>\n",
       "    </tr>\n",
       "  </tbody>\n",
       "</table>\n",
       "</div>"
      ],
      "text/plain": [
       "                  Time  Energy Usage    t   tp    rf     wr   wg  wsr   wsg  \\\n",
       "0  2021-01-27 11:00:00          8.03  0.0 -3.8  75.0  130.0  3.6  NaN   7.6   \n",
       "1  2021-01-27 12:00:00          6.85  1.9 -3.3  68.0  150.0  5.4  NaN   9.4   \n",
       "2  2021-01-27 13:00:00          8.86  3.5 -2.8  63.0  190.0  7.6  NaN  11.2   \n",
       "3  2021-01-27 14:00:00          7.37  4.4 -5.3  49.0  120.0  9.4  NaN  14.8   \n",
       "4  2021-01-27 15:00:00          7.67  5.0 -7.6  40.0  150.0  5.4  NaN  11.2   \n",
       "\n",
       "   regen   ldred  ldstat  sonne  \n",
       "0    0.0  1018.4   973.5   93.0  \n",
       "1    0.0  1017.7   973.1   66.0  \n",
       "2    0.0  1016.8   972.5  100.0  \n",
       "3    0.0  1016.3   972.1   99.0  \n",
       "4    0.0  1015.5   971.5  100.0  "
      ]
     },
     "execution_count": 2,
     "metadata": {},
     "output_type": "execute_result"
    }
   ],
   "source": [
    "Df = pd.read_csv('./DataSets/PreProcessed_EnergyConsumption_WeatherData.csv', header=0)\n",
    "Df.head()"
   ]
  },
  {
   "cell_type": "code",
   "execution_count": 3,
   "metadata": {},
   "outputs": [
    {
     "data": {
      "text/html": [
       "<div>\n",
       "<style scoped>\n",
       "    .dataframe tbody tr th:only-of-type {\n",
       "        vertical-align: middle;\n",
       "    }\n",
       "\n",
       "    .dataframe tbody tr th {\n",
       "        vertical-align: top;\n",
       "    }\n",
       "\n",
       "    .dataframe thead th {\n",
       "        text-align: right;\n",
       "    }\n",
       "</style>\n",
       "<table border=\"1\" class=\"dataframe\">\n",
       "  <thead>\n",
       "    <tr style=\"text-align: right;\">\n",
       "      <th></th>\n",
       "      <th>Time</th>\n",
       "      <th>Holiday</th>\n",
       "      <th>Week Day</th>\n",
       "      <th>Energy Usage</th>\n",
       "      <th>cos_x</th>\n",
       "      <th>sin_x</th>\n",
       "    </tr>\n",
       "  </thead>\n",
       "  <tbody>\n",
       "    <tr>\n",
       "      <th>0</th>\n",
       "      <td>2021-01-27 11:00:00</td>\n",
       "      <td>0.0</td>\n",
       "      <td>2</td>\n",
       "      <td>8.03</td>\n",
       "      <td>-0.222521</td>\n",
       "      <td>0.974928</td>\n",
       "    </tr>\n",
       "    <tr>\n",
       "      <th>1</th>\n",
       "      <td>2021-01-27 12:00:00</td>\n",
       "      <td>0.0</td>\n",
       "      <td>2</td>\n",
       "      <td>6.85</td>\n",
       "      <td>-0.222521</td>\n",
       "      <td>0.974928</td>\n",
       "    </tr>\n",
       "    <tr>\n",
       "      <th>2</th>\n",
       "      <td>2021-01-27 13:00:00</td>\n",
       "      <td>0.0</td>\n",
       "      <td>2</td>\n",
       "      <td>8.86</td>\n",
       "      <td>-0.222521</td>\n",
       "      <td>0.974928</td>\n",
       "    </tr>\n",
       "    <tr>\n",
       "      <th>3</th>\n",
       "      <td>2021-01-27 14:00:00</td>\n",
       "      <td>0.0</td>\n",
       "      <td>2</td>\n",
       "      <td>7.37</td>\n",
       "      <td>-0.222521</td>\n",
       "      <td>0.974928</td>\n",
       "    </tr>\n",
       "    <tr>\n",
       "      <th>4</th>\n",
       "      <td>2021-01-27 15:00:00</td>\n",
       "      <td>0.0</td>\n",
       "      <td>2</td>\n",
       "      <td>7.67</td>\n",
       "      <td>-0.222521</td>\n",
       "      <td>0.974928</td>\n",
       "    </tr>\n",
       "  </tbody>\n",
       "</table>\n",
       "</div>"
      ],
      "text/plain": [
       "                  Time  Holiday  Week Day  Energy Usage     cos_x     sin_x\n",
       "0  2021-01-27 11:00:00      0.0         2          8.03 -0.222521  0.974928\n",
       "1  2021-01-27 12:00:00      0.0         2          6.85 -0.222521  0.974928\n",
       "2  2021-01-27 13:00:00      0.0         2          8.86 -0.222521  0.974928\n",
       "3  2021-01-27 14:00:00      0.0         2          7.37 -0.222521  0.974928\n",
       "4  2021-01-27 15:00:00      0.0         2          7.67 -0.222521  0.974928"
      ]
     },
     "execution_count": 3,
     "metadata": {},
     "output_type": "execute_result"
    }
   ],
   "source": [
    "DfH = pd.read_csv('./DataSets/EnergyReading_Days_Dataset.csv', header=0)\n",
    "DfH.head()"
   ]
  },
  {
   "cell_type": "markdown",
   "metadata": {},
   "source": [
    "### Merge the holidays and week day decoding "
   ]
  },
  {
   "cell_type": "code",
   "execution_count": 4,
   "metadata": {},
   "outputs": [],
   "source": [
    "Df.insert(1,'Holiday',DfH[\"Holiday\"])\n",
    "Df.insert(1,'Cos',DfH[\"cos_x\"])\n",
    "Df.insert(1,'Sin',DfH[\"sin_x\"])\n",
    "Df.insert(1,'Week Day',DfH[\"Week Day\"])"
   ]
  },
  {
   "cell_type": "code",
   "execution_count": 5,
   "metadata": {},
   "outputs": [],
   "source": [
    "Df =Df.reindex(columns=[\"Time\",\"Sin\",\"Cos\",\"Holiday\",\"t\",\"Energy Usage\"])"
   ]
  },
  {
   "cell_type": "markdown",
   "metadata": {},
   "source": [
    "### Splitting the Time \n",
    "\n",
    "The datetime feature should be splitted into separate features as year,month,day,hour"
   ]
  },
  {
   "cell_type": "code",
   "execution_count": 6,
   "metadata": {},
   "outputs": [],
   "source": [
    "from datetime import datetime as dt \n",
    "def SplitTime(data,col): \n",
    "    \n",
    "    year = [] \n",
    "    month = [] \n",
    "    day = [] \n",
    "    hour = [] \n",
    "    \n",
    "    for str_date in data[col]: \n",
    "        dti = dt.strptime(str_date, \"%Y-%m-%d %H:%M:%S\")\n",
    "        year.append(dti.year)\n",
    "        month.append(dti.month)\n",
    "        day.append(dti.day)\n",
    "        hour.append(dti.hour)\n",
    "   \n",
    "    #Delete the old column\n",
    "    data.drop(col, inplace = True, axis=1) \n",
    "\n",
    "    #Insert the newone\n",
    "    data.insert(0, 'year',year)\n",
    "    data.insert(1, 'month',month)\n",
    "    data.insert(2, 'day',day)\n",
    "    data.insert(3, 'hour',hour)\n",
    "\n",
    "    return data\n",
    "\n",
    "CDf= SplitTime(Df,'Time')"
   ]
  },
  {
   "cell_type": "code",
   "execution_count": 7,
   "metadata": {},
   "outputs": [],
   "source": [
    "Df.to_csv(\"./DataSets/DataSet_complete.csv\",index=False)"
   ]
  },
  {
   "cell_type": "markdown",
   "metadata": {},
   "source": [
    "### Creating Lookback columns "
   ]
  },
  {
   "cell_type": "code",
   "execution_count": 8,
   "metadata": {},
   "outputs": [],
   "source": [
    "def create_lookback_columns(df, label, num_lookback_samples):\n",
    "    for lookback in range(1,num_lookback_samples):\n",
    "        df[f\"{label} Lookback {lookback}\"] = [0 for i in range(lookback)] + [df[label][i-lookback] for i in range(lookback,df.shape[0])]\n"
   ]
  },
  {
   "cell_type": "code",
   "execution_count": 9,
   "metadata": {},
   "outputs": [],
   "source": [
    "use_autorecursive = False\n",
    "lookback_samples = 6\n",
    "lookback_label = 't'\n",
    "create_lookback_columns(Df, lookback_label, lookback_samples)\n",
    "Df = Df[lookback_samples:]\n",
    "\n",
    "Y = Df['Energy Usage']\n",
    "lookback_labels = [f\"{lookback_label} Lookback {lookback}\" for lookback in range(1, lookback_samples)]\n",
    "X_train_original = Df[[\"month\",\"day\",\"hour\",\"Sin\",\"Cos\",'Holiday','t'] + lookback_labels]\n",
    "if use_autorecursive:\n",
    "    X_test = Df[[\"month\",\"day\",\"hour\",\"Sin\",\"Cos\",'Holiday','t']]\n",
    "else:\n",
    "    X_test = Df[[\"month\",\"day\",\"hour\",\"Sin\",\"Cos\",'Holiday','t'] + lookback_labels]\n",
    "\n"
   ]
  },
  {
   "cell_type": "markdown",
   "metadata": {},
   "source": [
    "### The data Frame now is ready to be used\n",
    "\n",
    "Each column would be a feature for the machine learning model. \n",
    "The index now starts at 6 since we've implemented the lookback. It would be impossible to have lookback samples features for the first measurement. Thus, our first sample that will be used as a feature is the sample 6 (the samples before are still used but as a lookback parameter)"
   ]
  },
  {
   "cell_type": "code",
   "execution_count": 10,
   "metadata": {},
   "outputs": [
    {
     "data": {
      "text/html": [
       "<div>\n",
       "<style scoped>\n",
       "    .dataframe tbody tr th:only-of-type {\n",
       "        vertical-align: middle;\n",
       "    }\n",
       "\n",
       "    .dataframe tbody tr th {\n",
       "        vertical-align: top;\n",
       "    }\n",
       "\n",
       "    .dataframe thead th {\n",
       "        text-align: right;\n",
       "    }\n",
       "</style>\n",
       "<table border=\"1\" class=\"dataframe\">\n",
       "  <thead>\n",
       "    <tr style=\"text-align: right;\">\n",
       "      <th></th>\n",
       "      <th>year</th>\n",
       "      <th>month</th>\n",
       "      <th>day</th>\n",
       "      <th>hour</th>\n",
       "      <th>Sin</th>\n",
       "      <th>Cos</th>\n",
       "      <th>Holiday</th>\n",
       "      <th>t</th>\n",
       "      <th>Energy Usage</th>\n",
       "      <th>t Lookback 1</th>\n",
       "      <th>t Lookback 2</th>\n",
       "      <th>t Lookback 3</th>\n",
       "      <th>t Lookback 4</th>\n",
       "      <th>t Lookback 5</th>\n",
       "    </tr>\n",
       "  </thead>\n",
       "  <tbody>\n",
       "    <tr>\n",
       "      <th>6</th>\n",
       "      <td>2021</td>\n",
       "      <td>1</td>\n",
       "      <td>27</td>\n",
       "      <td>17</td>\n",
       "      <td>0.974928</td>\n",
       "      <td>-0.222521</td>\n",
       "      <td>0.0</td>\n",
       "      <td>2.1</td>\n",
       "      <td>7.21</td>\n",
       "      <td>2.5</td>\n",
       "      <td>5.0</td>\n",
       "      <td>4.4</td>\n",
       "      <td>3.5</td>\n",
       "      <td>1.9</td>\n",
       "    </tr>\n",
       "    <tr>\n",
       "      <th>7</th>\n",
       "      <td>2021</td>\n",
       "      <td>1</td>\n",
       "      <td>27</td>\n",
       "      <td>18</td>\n",
       "      <td>0.974928</td>\n",
       "      <td>-0.222521</td>\n",
       "      <td>0.0</td>\n",
       "      <td>-1.1</td>\n",
       "      <td>6.01</td>\n",
       "      <td>2.1</td>\n",
       "      <td>2.5</td>\n",
       "      <td>5.0</td>\n",
       "      <td>4.4</td>\n",
       "      <td>3.5</td>\n",
       "    </tr>\n",
       "    <tr>\n",
       "      <th>8</th>\n",
       "      <td>2021</td>\n",
       "      <td>1</td>\n",
       "      <td>27</td>\n",
       "      <td>19</td>\n",
       "      <td>0.974928</td>\n",
       "      <td>-0.222521</td>\n",
       "      <td>0.0</td>\n",
       "      <td>-1.6</td>\n",
       "      <td>3.42</td>\n",
       "      <td>-1.1</td>\n",
       "      <td>2.1</td>\n",
       "      <td>2.5</td>\n",
       "      <td>5.0</td>\n",
       "      <td>4.4</td>\n",
       "    </tr>\n",
       "    <tr>\n",
       "      <th>9</th>\n",
       "      <td>2021</td>\n",
       "      <td>1</td>\n",
       "      <td>27</td>\n",
       "      <td>20</td>\n",
       "      <td>0.974928</td>\n",
       "      <td>-0.222521</td>\n",
       "      <td>0.0</td>\n",
       "      <td>-1.2</td>\n",
       "      <td>6.16</td>\n",
       "      <td>-1.6</td>\n",
       "      <td>-1.1</td>\n",
       "      <td>2.1</td>\n",
       "      <td>2.5</td>\n",
       "      <td>5.0</td>\n",
       "    </tr>\n",
       "    <tr>\n",
       "      <th>10</th>\n",
       "      <td>2021</td>\n",
       "      <td>1</td>\n",
       "      <td>27</td>\n",
       "      <td>21</td>\n",
       "      <td>0.974928</td>\n",
       "      <td>-0.222521</td>\n",
       "      <td>0.0</td>\n",
       "      <td>-1.9</td>\n",
       "      <td>3.82</td>\n",
       "      <td>-1.2</td>\n",
       "      <td>-1.6</td>\n",
       "      <td>-1.1</td>\n",
       "      <td>2.1</td>\n",
       "      <td>2.5</td>\n",
       "    </tr>\n",
       "  </tbody>\n",
       "</table>\n",
       "</div>"
      ],
      "text/plain": [
       "    year  month  day  hour       Sin       Cos  Holiday    t  Energy Usage  \\\n",
       "6   2021      1   27    17  0.974928 -0.222521      0.0  2.1          7.21   \n",
       "7   2021      1   27    18  0.974928 -0.222521      0.0 -1.1          6.01   \n",
       "8   2021      1   27    19  0.974928 -0.222521      0.0 -1.6          3.42   \n",
       "9   2021      1   27    20  0.974928 -0.222521      0.0 -1.2          6.16   \n",
       "10  2021      1   27    21  0.974928 -0.222521      0.0 -1.9          3.82   \n",
       "\n",
       "    t Lookback 1  t Lookback 2  t Lookback 3  t Lookback 4  t Lookback 5  \n",
       "6            2.5           5.0           4.4           3.5           1.9  \n",
       "7            2.1           2.5           5.0           4.4           3.5  \n",
       "8           -1.1           2.1           2.5           5.0           4.4  \n",
       "9           -1.6          -1.1           2.1           2.5           5.0  \n",
       "10          -1.2          -1.6          -1.1           2.1           2.5  "
      ]
     },
     "execution_count": 10,
     "metadata": {},
     "output_type": "execute_result"
    }
   ],
   "source": [
    "Df.head()"
   ]
  },
  {
   "cell_type": "markdown",
   "metadata": {},
   "source": [
    "# Machine learning models"
   ]
  },
  {
   "cell_type": "code",
   "execution_count": 11,
   "metadata": {},
   "outputs": [],
   "source": [
    "from sklearn.linear_model import LinearRegression\n",
    "from sklearn.tree import DecisionTreeRegressor\n",
    "from sklearn.neural_network import MLPRegressor\n",
    "import seaborn as sns #Tool for ML\n",
    "from sklearn.metrics import r2_score, mean_squared_error, mean_absolute_error #Performance metrics to ML \n",
    "%matplotlib inline \n",
    "import warnings\n",
    "warnings.filterwarnings('ignore')"
   ]
  },
  {
   "cell_type": "markdown",
   "metadata": {},
   "source": [
    "### Split Test and Training Data \n",
    "\n",
    "20% of data will be used a verification (test) data and the remaining data will be used to train the models. This distribution in each cluster is random."
   ]
  },
  {
   "cell_type": "code",
   "execution_count": 12,
   "metadata": {},
   "outputs": [],
   "source": [
    "from sklearn.model_selection import train_test_split\n",
    "if use_autorecursive:\n",
    "    X_train, _, y_train, _ = train_test_split(X_train_original, Y, test_size=0.2, random_state=42)\n",
    "    _, X_test, _, y_test = train_test_split(X_test, Y, test_size=0.2, random_state=42)\n",
    "else:\n",
    "    X_train, X_test, y_train,y_test = train_test_split(X_train_original, Y, test_size=0.2, random_state=42)\n",
    "\n",
    "X_train = X_train.values"
   ]
  },
  {
   "cell_type": "markdown",
   "metadata": {},
   "source": [
    "## Linear Regression"
   ]
  },
  {
   "cell_type": "markdown",
   "metadata": {},
   "source": [
    "### Training the model"
   ]
  },
  {
   "cell_type": "code",
   "execution_count": 13,
   "metadata": {},
   "outputs": [
    {
     "data": {
      "text/plain": [
       "LinearRegression(normalize=True)"
      ]
     },
     "execution_count": 13,
     "metadata": {},
     "output_type": "execute_result"
    }
   ],
   "source": [
    "LinearReg = LinearRegression(normalize=True)\n",
    "LinearReg.fit(X_train, y_train)"
   ]
  },
  {
   "cell_type": "markdown",
   "metadata": {},
   "source": [
    "### Testing the model "
   ]
  },
  {
   "cell_type": "markdown",
   "metadata": {},
   "source": [
    "* Model perfomance with the testing set "
   ]
  },
  {
   "cell_type": "code",
   "execution_count": 14,
   "metadata": {},
   "outputs": [],
   "source": [
    "from collections import deque\n",
    "def autorecursive_prediction(model, x_test, y0, num_lookback_samples, use_autorecursive=False):\n",
    "    if use_autorecursive:\n",
    "        y_prev = deque([0 for i in range(num_lookback_samples)], maxlen=num_lookback_samples-1)\n",
    "        ys = []\n",
    "        for row in x_test.values:\n",
    "            x_test_cur = np.expand_dims(np.append(row,y_prev),axis=0)\n",
    "            y_cur = model.predict(x_test_cur)\n",
    "            ys.append(y_cur)\n",
    "            y_prev.append(y_cur)\n",
    "        return np.array(ys)\n",
    "    else:\n",
    "        return model.predict(x_test)"
   ]
  },
  {
   "cell_type": "code",
   "execution_count": 15,
   "metadata": {},
   "outputs": [
    {
     "name": "stdout",
     "output_type": "stream",
     "text": [
      "RMSE is 1.3158\n",
      "R2 score is 0.4834\n"
     ]
    }
   ],
   "source": [
    "LinearPred = autorecursive_prediction(LinearReg, X_test, Y.head(), lookback_samples, use_autorecursive)\n",
    "\n",
    "LinearRMSE = (np.sqrt(mean_squared_error(y_test, LinearPred)))\n",
    "LinearR2= max(r2_score(y_test, LinearPred),-100)\n",
    "LinearMAE = mean_absolute_error(y_test, LinearPred)\n",
    "\n",
    "print('RMSE is {:.4f}'.format(LinearRMSE))\n",
    "print('R2 score is {:.4f}'.format(LinearR2))"
   ]
  },
  {
   "cell_type": "markdown",
   "metadata": {},
   "source": [
    "* Plotting real value vs predicted values "
   ]
  },
  {
   "cell_type": "code",
   "execution_count": 16,
   "metadata": {},
   "outputs": [
    {
     "data": {
      "text/plain": [
       "<Figure size 432x288 with 0 Axes>"
      ]
     },
     "metadata": {},
     "output_type": "display_data"
    },
    {
     "data": {
      "image/png": "[encoded data removed]",
      "text/plain": [
       "<Figure size 504x504 with 1 Axes>"
      ]
     },
     "metadata": {
      "needs_background": "light"
     },
     "output_type": "display_data"
    }
   ],
   "source": [
    "plt.figure()\n",
    "plt.figure(figsize=(7, 7))\n",
    "plt.grid()\n",
    "plt.scatter(y_test,LinearPred,alpha=0.5,\n",
    "            color='blue',label=r'$R^2 = $ {:.2f}'.format(LinearR2))\n",
    "plt.title(\"Linear Regression model\")\n",
    "plt.ylabel(\"Real values\")\n",
    "plt.xlabel(\"Predicted values\")\n",
    "plt.legend(prop={'size': 15})\n",
    "plt.savefig(\"./Imgs/linear_regression_model.png\",transparent=True)\n",
    "plt.show()"
   ]
  },
  {
   "cell_type": "markdown",
   "metadata": {},
   "source": [
    " We could conclude that this model is not the indicated for this prediction. We've got a low $R^2$ and with the plot we could see that the real values and the predicted ones are not matching. \n",
    " Seems like for the most of the real values the model has an output of a value between 2 and 4, and also other cluster between 6 and 8"
   ]
  },
  {
   "cell_type": "markdown",
   "metadata": {},
   "source": [
    "## Decision Tree Regressor model "
   ]
  },
  {
   "cell_type": "markdown",
   "metadata": {},
   "source": [
    "* Model training"
   ]
  },
  {
   "cell_type": "code",
   "execution_count": 17,
   "metadata": {},
   "outputs": [
    {
     "data": {
      "text/plain": [
       "DecisionTreeRegressor(criterion='mse', min_samples_split=60)"
      ]
     },
     "execution_count": 17,
     "metadata": {},
     "output_type": "execute_result"
    }
   ],
   "source": [
    "DecTreeReg= DecisionTreeRegressor(criterion=\"mse\",min_samples_split= 60)\n",
    "DecTreeReg.fit(X_train, y_train)"
   ]
  },
  {
   "cell_type": "markdown",
   "metadata": {},
   "source": [
    "* Model testing"
   ]
  },
  {
   "cell_type": "code",
   "execution_count": 18,
   "metadata": {},
   "outputs": [],
   "source": [
    "DTRPred = autorecursive_prediction(DecTreeReg, X_test, \n",
    "                                Y.head(),lookback_samples, use_autorecursive)"
   ]
  },
  {
   "cell_type": "markdown",
   "metadata": {},
   "source": [
    "* Model perfomance"
   ]
  },
  {
   "cell_type": "code",
   "execution_count": 19,
   "metadata": {},
   "outputs": [
    {
     "name": "stdout",
     "output_type": "stream",
     "text": [
      "Perfomance for testinG set 0.91\n"
     ]
    }
   ],
   "source": [
    "DTRRMSE = (np.sqrt(mean_squared_error(y_test, DTRPred)))\n",
    "DTRR2= r2_score(y_test, DTRPred)\n",
    "DTRMAE = mean_absolute_error(y_test, DTRPred)\n",
    "print(\"Perfomance for testinG set {:.2f}\".format(DTRR2))"
   ]
  },
  {
   "cell_type": "code",
   "execution_count": 20,
   "metadata": {},
   "outputs": [
    {
     "data": {
      "text/plain": [
       "<Figure size 432x288 with 0 Axes>"
      ]
     },
     "metadata": {},
     "output_type": "display_data"
    },
    {
     "data": {
      "image/png": "[encoded data removed]",
      "text/plain": [
       "<Figure size 504x504 with 1 Axes>"
      ]
     },
     "metadata": {
      "needs_background": "light"
     },
     "output_type": "display_data"
    }
   ],
   "source": [
    "plt.figure()\n",
    "plt.figure(figsize=(7, 7))\n",
    "plt.grid()\n",
    "plt.scatter(y_test,DTRPred,alpha=0.5\n",
    "        ,color='green',label=r'$R^2 = $ {:.2f}'.format(DTRR2))\n",
    "plt.title(\"Tree Regressor Model\")\n",
    "plt.ylabel(\"Real values\")\n",
    "plt.xlabel(\"Predicted values\")\n",
    "plt.legend(prop={'size': 15})\n",
    "plt.savefig(\"./Imgs/tree_regressor_model.png\",transparent=True)\n",
    "plt.show()"
   ]
  },
  {
   "cell_type": "markdown",
   "metadata": {},
   "source": [
    "## MLPRegressor model "
   ]
  },
  {
   "cell_type": "markdown",
   "metadata": {},
   "source": [
    "* Model training"
   ]
  },
  {
   "cell_type": "code",
   "execution_count": null,
   "metadata": {},
   "outputs": [
    {
     "name": "stdout",
     "output_type": "stream",
     "text": [
      "0.7462857197668351\n",
      "0.856742842619468\n",
      "0.781552056528253\n",
      "0.1506082826268066\n",
      "0.7018998516208815\n",
      "0.6508899163380726\n",
      "0.8287260663886613\n",
      "0.7731895049141295\n"
     ]
    }
   ],
   "source": [
    "MLPR_cv= MLPRegressor(hidden_layer_sizes=(400,20), activation='tanh', alpha=0.001, learning_rate='constant', solver='adam')\n",
    "from sklearn.model_selection import KFold\n",
    "kf = KFold(n_splits=10)\n",
    "MLRPRMSE = []\n",
    "MLPRR2 = []\n",
    "MLPRMAE = []\n",
    "train_best = []\n",
    "test_best =[]\n",
    "X_train_original = X_train_original.reset_index(drop=True)\n",
    "Y_reset = Y.reset_index(drop=True)\n",
    "\n",
    "for train_indices, test_indices in kf.split(X_train_original):\n",
    "    MLPR_cv.fit(X_train_original.iloc[train_indices], Y_reset.iloc[train_indices])\n",
    "    MLPRPred = autorecursive_prediction(MLPR_cv, X_train_original.iloc[test_indices], Y.iloc[0],lookback_samples, use_autorecursive)\n",
    "    MLRPRMSE.append(np.sqrt(mean_squared_error(Y_reset.iloc[test_indices], MLPRPred)))\n",
    "    r2 = r2_score(Y_reset.iloc[test_indices], MLPRPred)\n",
    "    if len(MLPRR2) !=0:\n",
    "        if r2 > MLPRR2[-1]:\n",
    "            train_best = train_indices\n",
    "            test_best = test_indices\n",
    "    MLPRR2.append(r2)\n",
    "    MLPRMAE.append(mean_absolute_error(Y_reset.iloc[test_indices], MLPRPred))\n",
    "    print(MLPR_cv.score(X_train_original.iloc[test_indices], Y_reset.iloc[test_indices]))\n",
    "\n",
    "print(\"Best R2 is\", np.max(MLPRR2))\n",
    "print(\"Best MRSE is\", np.min(MLRPRMSE))\n",
    "print(\"Best MAE is\", np.min(MLPRMAE))"
   ]
  },
  {
   "cell_type": "markdown",
   "metadata": {},
   "source": [
    "* Model testing"
   ]
  },
  {
   "cell_type": "code",
   "execution_count": null,
   "metadata": {},
   "outputs": [],
   "source": [
    "MLPR = MLPRegressor(hidden_layer_sizes=(400,20), activation='tanh', alpha=0.001, learning_rate='constant', solver='adam')\n",
    "MLPR.fit(X_train_original.iloc[train_best], Y_reset.iloc[train_best])\n",
    "\n",
    "#MLPRPred=MLPR.predict(X_test)\n",
    "MLPRPred = autorecursive_prediction(MLPR, X_train_original.iloc[test_best], Y.head(),lookback_samples, use_autorecursive)"
   ]
  },
  {
   "cell_type": "code",
   "execution_count": null,
   "metadata": {},
   "outputs": [],
   "source": [
    "MLRPRMSE = (np.sqrt(mean_squared_error(y_test, MLPRPred)))\n",
    "MLPRR2= r2_score(y_test, MLPRPred)\n",
    "MLPRMAE = mean_absolute_error(y_test, MLPRPred)\n",
    "print(MLPRR2)"
   ]
  },
  {
   "cell_type": "code",
   "execution_count": null,
   "metadata": {},
   "outputs": [],
   "source": [
    "plt.figure()\n",
    "plt.figure(figsize=(7, 7))\n",
    "plt.grid()\n",
    "plt.scatter(y_test,MLPRPred,alpha=0.5\n",
    "        ,color='#ff00c9',label=r'$R^2 = $ {:.2f}'.format(MLPRR2))\n",
    "plt.title(\"MLPR regressor\")\n",
    "plt.ylabel(\"Real values\")\n",
    "plt.xlabel(\"Predicted values\")\n",
    "plt.legend(prop={'size': 15})\n",
    "plt.savefig(\"./Imgs/MLPR_regressor_model.png\",transparent=True)\n",
    "plt.show()"
   ]
  },
  {
   "cell_type": "markdown",
   "metadata": {},
   "source": [
    "* Model perfomance"
   ]
  },
  {
   "cell_type": "markdown",
   "metadata": {},
   "source": [
    "## SVR regressor model "
   ]
  },
  {
   "cell_type": "code",
   "execution_count": null,
   "metadata": {},
   "outputs": [],
   "source": [
    "from sklearn.svm import SVR"
   ]
  },
  {
   "cell_type": "markdown",
   "metadata": {},
   "source": [
    "* Training the model "
   ]
  },
  {
   "cell_type": "code",
   "execution_count": null,
   "metadata": {},
   "outputs": [],
   "source": [
    "SVRregressor = SVR(gamma=0.01)\n",
    "SVRregressor.fit(X_train, y_train)"
   ]
  },
  {
   "cell_type": "markdown",
   "metadata": {},
   "source": [
    "* Test the model"
   ]
  },
  {
   "cell_type": "code",
   "execution_count": null,
   "metadata": {},
   "outputs": [],
   "source": [
    "SVRPred = autorecursive_prediction(SVRregressor, X_test, Y.head(),\n",
    "                                   lookback_samples, use_autorecursive)"
   ]
  },
  {
   "cell_type": "code",
   "execution_count": null,
   "metadata": {},
   "outputs": [],
   "source": [
    "SVRRMSE = (np.sqrt(mean_squared_error(y_test, SVRPred)))\n",
    "SVRR2= r2_score(y_test, SVRPred)\n",
    "SVRMAE = mean_absolute_error(y_test, SVRPred)\n",
    "\n",
    "print(SVRR2)"
   ]
  },
  {
   "cell_type": "code",
   "execution_count": null,
   "metadata": {},
   "outputs": [],
   "source": [
    "plt.figure()\n",
    "plt.figure(figsize=(7, 7))\n",
    "plt.grid()\n",
    "plt.scatter(y_test,SVRPred,alpha=0.5\n",
    "        ,color='#FF5733',label=r'$R^2 = $ {:.2f}'.format(SVRR2))\n",
    "plt.title(\"SVR\")\n",
    "plt.ylabel(\"Real values\")\n",
    "plt.xlabel(\"Predicted values\")\n",
    "plt.legend(prop={'size': 15})\n",
    "plt.savefig(\"./Imgs/SVLR_regressor_model.png\",transparent=True)\n",
    "plt.show()"
   ]
  },
  {
   "cell_type": "markdown",
   "metadata": {},
   "source": [
    "## Model comparation"
   ]
  },
  {
   "cell_type": "code",
   "execution_count": null,
   "metadata": {},
   "outputs": [],
   "source": [
    "plt.figure()\n",
    "plt.figure(figsize=(15, 15))\n",
    "\n",
    "#Linear Regression \n",
    "plt.subplot(2,2,1)\n",
    "plt.grid()\n",
    "plt.scatter(y_test,LinearPred,alpha=0.5,\n",
    "            color='blue',label=r'$R^2 = $ {:.2f}'.format(LinearR2))\n",
    "plt.title(\"Linear Regression\")\n",
    "plt.ylabel(\"Real values\")\n",
    "plt.xlabel(\"Predicted values\")\n",
    "plt.legend(prop={'size': 15})\n",
    "\n",
    "# Decision Tree Regressor model \n",
    "plt.subplot(2,2,2)\n",
    "plt.grid()\n",
    "plt.scatter(y_test,DTRPred,alpha=0.5\n",
    "        ,color='green',label=r'$R^2 = $ {:.2f}'.format(DTRR2))\n",
    "plt.title(\"Decision Tree Regression\")\n",
    "plt.ylabel(\"Real values\")\n",
    "plt.xlabel(\"Predicted values\")\n",
    "plt.legend(prop={'size': 15})\n",
    "\n",
    "#MLPR\n",
    "plt.subplot(2,2,3)\n",
    "plt.grid()\n",
    "plt.scatter(y_test,MLPRPred,alpha=0.5\n",
    "        ,color='#ff00c9',label=r'$R^2 = $ {:.2f}'.format(MLPRR2))\n",
    "plt.title(\"MLPR\")\n",
    "plt.ylabel(\"Real values\")\n",
    "plt.xlabel(\"Predicted values\")\n",
    "plt.legend(prop={'size': 15})\n",
    "\n",
    "#SVRR\n",
    "plt.subplot(2,2,4)\n",
    "plt.grid()\n",
    "plt.scatter(y_test,SVRPred,alpha=0.5\n",
    "        ,color='#FF5733',label=r'$R^2 = $ {:.2f}'.format(SVRR2))\n",
    "plt.title(\"SVR\")\n",
    "plt.ylabel(\"Real values\")\n",
    "plt.xlabel(\"Predicted values\")\n",
    "plt.legend(prop={'size': 15})\n",
    "plt.savefig(\"./Imgs/ModelComp.png\",transparent=True)\n",
    "\n",
    "plt.show()\n"
   ]
  },
  {
   "cell_type": "markdown",
   "metadata": {},
   "source": [
    "### Performance comparation \n",
    "\n",
    "To decide which model has the best perfomance we compare these measurements: \n",
    "\n",
    "* $R^2$ : Coefficient of determination. Represents the proportion of the variance in the dependent variable that the independt variables (our inputs variables) explain collectively. It's a measure that indicates how well our model fit.\n",
    "\n",
    "* $MAE$ : Mean Absolute Error. Represents the average of the absolute difference between the actual and predicted values\n",
    "\n",
    "* $RMS$ : Root Mean Squared Error. Represents the standard deviation of residuals."
   ]
  },
  {
   "cell_type": "code",
   "execution_count": null,
   "metadata": {},
   "outputs": [],
   "source": [
    "serie_1 = [406, 387, 442, 457, 485]\n",
    "serie_2 = [421, 453, 435, 478, 512]\n",
    " \n",
    "RMSList = [LinearRMSE, DTRRMSE, SVRRMSE, MLRPRMSE]\n",
    "MAEList = [LinearMAE, DTRMAE, SVRMAE, MLPRMAE]\n",
    "R2List = [LinearR2, DTRR2, SVRR2, MLPRR2]\n",
    "BarIdx = np.arange(0,8,2)\n",
    "BarWidth=0.35\n",
    " \n",
    "fig = plt.figure(figsize=(10,8))\n",
    "b1 = plt.bar(BarIdx , RMSList, width=BarWidth, label='RMS',color = \"#af7ac5\")\n",
    "b2 = plt.bar(BarIdx + 1.1*BarWidth, MAEList, width=BarWidth, label='MAE',color= \"#5499c7\")\n",
    "b3 = plt.bar(BarIdx + 2.2*BarWidth, R2List, width=BarWidth, label='$R^2$',color = \"#48c9b0\")\n",
    "\n",
    "#Text values in top of each bar\n",
    "for ax in b1 + b2 + b3:\n",
    "    height = ax.get_height()\n",
    "    plt.text(ax.get_x() + ax.get_width()/2.0, height, \"{:.2f}\".format(height), \n",
    "             ha='center', va='bottom')\n",
    "\n",
    "\n",
    "\n",
    "plt.legend(loc='best')\n",
    "\n",
    "plt.xticks(BarIdx + BarWidth, ('Linear', 'DTR', 'SVR', 'MLPR'))\n",
    " \n",
    "plt.ylabel('Value')\n",
    "plt.xlabel('ML Model')\n",
    "plt.title(\"Models' Perfomance\")\n",
    "plt.grid()\n",
    "plt.savefig(\"./Imgs/Model_perfomance.png\",transparent=True)\n",
    "plt.show()"
   ]
  },
  {
   "cell_type": "markdown",
   "metadata": {},
   "source": [
    "Based on $R^2$ value (the most appropriate one to compare different models) the best model for this particular case is the **Decision Tree Regressor**"
   ]
  },
  {
   "cell_type": "markdown",
   "metadata": {},
   "source": [
    "# Using the model \n",
    "\n",
    "### Gathering features DataFrame \n",
    "\n",
    "* Open Forecast data"
   ]
  },
  {
   "cell_type": "code",
   "execution_count": null,
   "metadata": {},
   "outputs": [],
   "source": [
    "Df = pd.read_csv(\"./DataSets/Preprocessed_Forecast_DataSet.csv\")\n",
    "Df.head()"
   ]
  },
  {
   "cell_type": "markdown",
   "metadata": {},
   "source": [
    "* Changing column names to match the one we've used at model training"
   ]
  },
  {
   "cell_type": "code",
   "execution_count": null,
   "metadata": {},
   "outputs": [],
   "source": [
    "Df.insert(3,\"Sin\",Df[\"sin_x\"])\n",
    "Df.insert(4,\"Cos\",Df[\"cos_x\"])\n",
    "Df.head()"
   ]
  },
  {
   "cell_type": "markdown",
   "metadata": {},
   "source": [
    "* Delete the old named column"
   ]
  },
  {
   "cell_type": "code",
   "execution_count": null,
   "metadata": {},
   "outputs": [],
   "source": [
    "Df= Df.drop(\"sin_x\",axis=1)\n",
    "Df = Df.drop(\"cos_x\",axis=1)"
   ]
  },
  {
   "cell_type": "markdown",
   "metadata": {},
   "source": [
    "### Predict the energy consumption with DTR"
   ]
  },
  {
   "cell_type": "code",
   "execution_count": null,
   "metadata": {},
   "outputs": [],
   "source": [
    "#predictions=DecTreeReg.predict(Df)\n",
    "predictions = autorecursive_prediction(DecTreeReg, Df, Y.head(),lookback_samples, use_autorecursive)"
   ]
  },
  {
   "cell_type": "markdown",
   "metadata": {},
   "source": [
    "* Save predictions into the data frame"
   ]
  },
  {
   "cell_type": "code",
   "execution_count": null,
   "metadata": {},
   "outputs": [],
   "source": [
    "Df.insert(7,\"Energy usage\",predictions)"
   ]
  },
  {
   "cell_type": "markdown",
   "metadata": {},
   "source": [
    "* Put all date info together and convert it to datetime objects \n",
    "\n",
    "We'll use this for easier plotting"
   ]
  },
  {
   "cell_type": "code",
   "execution_count": null,
   "metadata": {},
   "outputs": [],
   "source": [
    "def Convertstr2dt(data,col): \n",
    "    dates=[]\n",
    "    for idx,value in enumerate(data[col]): \n",
    "        str_date = '2021-' + str(data['month'][idx])+ '-' + str(data['day'][idx])+ ' ' + str(data['hour'][idx])\n",
    "        dti = dt.strptime(str_date, \"%Y-%m-%d %H\")\n",
    "        dates.append(dti)\n",
    "   \n",
    "    #Delete the old column\n",
    "    data.drop('month', inplace = True, axis=1) \n",
    "    data.drop('day', inplace = True, axis=1) \n",
    "    data.drop('hour', inplace = True, axis=1) \n",
    "    #Insert the newone\n",
    "    data.insert(0, 'Time',dates)\n",
    "    return data\n",
    "\n",
    "Df = Convertstr2dt(Df,'month')"
   ]
  },
  {
   "cell_type": "code",
   "execution_count": null,
   "metadata": {},
   "outputs": [],
   "source": [
    "Df.head()"
   ]
  },
  {
   "cell_type": "markdown",
   "metadata": {},
   "source": [
    "### Plots"
   ]
  },
  {
   "cell_type": "code",
   "execution_count": null,
   "metadata": {},
   "outputs": [],
   "source": [
    "def Plotday(df,day, MonthNum,year=2021): \n",
    "    x = []\n",
    "    y = [] \n",
    "\n",
    "    for idx,value in enumerate(df[\"Time\"]):\n",
    "        if value.month == MonthNum and value.day == day: \n",
    "            x.append(df[\"t\"][idx])\n",
    "            y.append(value.hour)\n",
    "            #print(value.hour)\n",
    "            \n",
    "    if not x and not y: \n",
    "        print(\"Missing day\")\n",
    "        return -1 \n",
    "    \n",
    "    fig=plt.figure(figsize=(15,8))\n",
    "    plt.grid()\n",
    "    plt.title(\"Daily Consumption\" + \": \" + str(day) + \"/\" + str(MonthNum))\n",
    "    plt.plot(y,x,alpha=0.8, color='#d35400', lw=\"1\",linestyle=\"--\", marker=\"o\",markersize=12)\n",
    "    plt.xlabel(\"Hour\")\n",
    "    plt.ylabel(\"Energy KWh\")\n",
    "   \n",
    "    plt.savefig(\"./Imgs/Prediction_EnergyConsumption_daily\" + str(day)+ \"_\"+ str(MonthNum)+ \".png\",transparent=True)"
   ]
  },
  {
   "cell_type": "markdown",
   "metadata": {},
   "source": [
    "##### Plot the predicted consumption for a day"
   ]
  },
  {
   "cell_type": "code",
   "execution_count": null,
   "metadata": {},
   "outputs": [],
   "source": [
    "Plotday(Df,23,11)"
   ]
  },
  {
   "cell_type": "markdown",
   "metadata": {},
   "source": [
    "##### 4 days consumption prediction"
   ]
  },
  {
   "cell_type": "markdown",
   "metadata": {},
   "source": [
    "* Find the index where the days change and setting the hours labels \n",
    "\n",
    "    To use them for labelling x axe"
   ]
  },
  {
   "cell_type": "code",
   "execution_count": null,
   "metadata": {},
   "outputs": [],
   "source": [
    "x = []\n",
    "y = [] \n",
    "Nhours = []  \n",
    "HourChangeidx = [] \n",
    "DayChangeidx = []  \n",
    "Nday = []\n",
    "Nameday=[]\n",
    "\n",
    "for idx, value in enumerate(Df[\"Time\"]): \n",
    "    #if value.day == 23 or value.day == 24:\n",
    "    if True: \n",
    "        x.append(Df[\"Energy usage\"][idx])\n",
    "        y.append(idx)\n",
    "        HourChangeidx.append(idx)\n",
    "        Nhours.append(value.hour)\n",
    "    if Nday and Nday[-1] != value.day: \n",
    "        Nday.append(value.day)\n",
    "        Nameday.append(value.strftime(\"%A\"))\n",
    "        DayChangeidx.append(idx)\n",
    "        \n",
    "    elif not Nday: \n",
    "        Nday.append(value.day)\n",
    "        Nameday.append(value.strftime(\"%A\"))\n",
    "        DayChangeidx.append(idx)"
   ]
  },
  {
   "cell_type": "markdown",
   "metadata": {},
   "source": [
    "* Whole forecast data plot "
   ]
  },
  {
   "cell_type": "code",
   "execution_count": null,
   "metadata": {},
   "outputs": [],
   "source": [
    "fig=plt.figure(figsize=(15,8))\n",
    "ax1 = fig.add_subplot(111)\n",
    "ax2 = ax1.twiny()\n",
    "\n",
    "plt.grid()\n",
    "plt.title(\"Energy consumption prediction\")\n",
    "ax1.set_xticks(HourChangeidx)\n",
    "ax1.set_xticklabels(Nhours, rotation=90)\n",
    "ax1.plot(y,x,alpha=0.8, color='#d35400', \n",
    "         lw=\"1\",linestyle=\"--\", marker=\"o\",markersize=10)\n",
    "ax2.set_xlim(ax1.get_xlim())\n",
    "ax2.set_xticks(DayChangeidx)\n",
    "ax2.set_xticklabels(Nameday)\n",
    "\n",
    "#plt.plot(Df[\"Energy usage\"][:20].index,Df[\"Energy usage\"][:20],alpha=0.8, color='orange', lw=\"0.75\",linestyle=\"--\", marker=\"o\",markersize=8)\n",
    "ax1.set_xlabel(\"Hours\")\n",
    "ax1.set_ylabel(\"Energy KWh\")\n",
    "plt.savefig(\"./Imgs/Prediction_Energy_consumption_4days.png\",\n",
    "                transparent=True)"
   ]
  }
 ],
 "metadata": {
  "kernelspec": {
   "display_name": "BigData",
   "language": "python",
   "name": "bigdata"
  },
  "language_info": {
   "codemirror_mode": {
    "name": "ipython",
    "version": 3
   },
   "file_extension": ".py",
   "mimetype": "text/x-python",
   "name": "python",
   "nbconvert_exporter": "python",
   "pygments_lexer": "ipython3",
   "version": "3.8.10"
  }
 },
 "nbformat": 4,
 "nbformat_minor": 4
}
